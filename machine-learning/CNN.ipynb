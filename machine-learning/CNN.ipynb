{
  "nbformat": 4,
  "nbformat_minor": 0,
  "metadata": {
    "colab": {
      "provenance": [],
      "gpuType": "T4"
    },
    "kernelspec": {
      "name": "python3",
      "display_name": "Python 3"
    },
    "language_info": {
      "name": "python"
    },
    "accelerator": "GPU"
  },
  "cells": [
    {
      "cell_type": "code",
      "execution_count": null,
      "metadata": {
        "id": "-ESVsPquMeHq"
      },
      "outputs": [],
      "source": [
        "import torch\n",
        "import torch.nn as nn\n",
        "import torch.nn.functional as F\n",
        "import torch.optim as optim\n",
        "from torchvision import datasets, transforms\n",
        "import numpy as np\n",
        "import matplotlib.pyplot as plt"
      ]
    },
    {
      "cell_type": "code",
      "source": [
        "device = torch.device('cuda' if torch.cuda.is_available() else 'cpu')\n",
        "device"
      ],
      "metadata": {
        "colab": {
          "base_uri": "https://localhost:8080/"
        },
        "id": "SR3SF79MUtHb",
        "outputId": "57d62c8b-b35a-4841-f6a5-be2e924b34bb"
      },
      "execution_count": null,
      "outputs": [
        {
          "output_type": "execute_result",
          "data": {
            "text/plain": [
              "device(type='cuda')"
            ]
          },
          "metadata": {},
          "execution_count": 2
        }
      ]
    },
    {
      "cell_type": "code",
      "source": [
        "transform = transforms.Compose([\n",
        "    transforms.ToTensor(),\n",
        "    transforms.Normalize((0.5,), (0.5,))\n",
        "])\n",
        "\n",
        "trainset = datasets.MNIST(root='./data', train=True, download=True, transform=transform)\n",
        "trainloader = torch.utils.data.DataLoader(trainset, batch_size=64, shuffle=True)\n",
        "\n",
        "testset = datasets.MNIST(root='./data', train=False, download=True, transform=transform)\n",
        "testloader = torch.utils.data.DataLoader(testset, batch_size=64, shuffle=False)"
      ],
      "metadata": {
        "colab": {
          "base_uri": "https://localhost:8080/"
        },
        "id": "fmlmVAtsMqap",
        "outputId": "f919ae53-95ef-46d2-bda4-b1f584473d3b"
      },
      "execution_count": null,
      "outputs": [
        {
          "output_type": "stream",
          "name": "stdout",
          "text": [
            "Downloading http://yann.lecun.com/exdb/mnist/train-images-idx3-ubyte.gz\n",
            "Failed to download (trying next):\n",
            "HTTP Error 403: Forbidden\n",
            "\n",
            "Downloading https://ossci-datasets.s3.amazonaws.com/mnist/train-images-idx3-ubyte.gz\n",
            "Downloading https://ossci-datasets.s3.amazonaws.com/mnist/train-images-idx3-ubyte.gz to ./data/MNIST/raw/train-images-idx3-ubyte.gz\n"
          ]
        },
        {
          "output_type": "stream",
          "name": "stderr",
          "text": [
            "100%|██████████| 9912422/9912422 [00:02<00:00, 4574352.25it/s]\n"
          ]
        },
        {
          "output_type": "stream",
          "name": "stdout",
          "text": [
            "Extracting ./data/MNIST/raw/train-images-idx3-ubyte.gz to ./data/MNIST/raw\n",
            "\n",
            "Downloading http://yann.lecun.com/exdb/mnist/train-labels-idx1-ubyte.gz\n",
            "Failed to download (trying next):\n",
            "HTTP Error 403: Forbidden\n",
            "\n",
            "Downloading https://ossci-datasets.s3.amazonaws.com/mnist/train-labels-idx1-ubyte.gz\n",
            "Downloading https://ossci-datasets.s3.amazonaws.com/mnist/train-labels-idx1-ubyte.gz to ./data/MNIST/raw/train-labels-idx1-ubyte.gz\n"
          ]
        },
        {
          "output_type": "stream",
          "name": "stderr",
          "text": [
            "100%|██████████| 28881/28881 [00:00<00:00, 134579.51it/s]\n"
          ]
        },
        {
          "output_type": "stream",
          "name": "stdout",
          "text": [
            "Extracting ./data/MNIST/raw/train-labels-idx1-ubyte.gz to ./data/MNIST/raw\n",
            "\n",
            "Downloading http://yann.lecun.com/exdb/mnist/t10k-images-idx3-ubyte.gz\n",
            "Failed to download (trying next):\n",
            "HTTP Error 403: Forbidden\n",
            "\n",
            "Downloading https://ossci-datasets.s3.amazonaws.com/mnist/t10k-images-idx3-ubyte.gz\n",
            "Downloading https://ossci-datasets.s3.amazonaws.com/mnist/t10k-images-idx3-ubyte.gz to ./data/MNIST/raw/t10k-images-idx3-ubyte.gz\n"
          ]
        },
        {
          "output_type": "stream",
          "name": "stderr",
          "text": [
            "100%|██████████| 1648877/1648877 [00:04<00:00, 332167.16it/s]\n"
          ]
        },
        {
          "output_type": "stream",
          "name": "stdout",
          "text": [
            "Extracting ./data/MNIST/raw/t10k-images-idx3-ubyte.gz to ./data/MNIST/raw\n",
            "\n",
            "Downloading http://yann.lecun.com/exdb/mnist/t10k-labels-idx1-ubyte.gz\n",
            "Failed to download (trying next):\n",
            "HTTP Error 403: Forbidden\n",
            "\n",
            "Downloading https://ossci-datasets.s3.amazonaws.com/mnist/t10k-labels-idx1-ubyte.gz\n",
            "Downloading https://ossci-datasets.s3.amazonaws.com/mnist/t10k-labels-idx1-ubyte.gz to ./data/MNIST/raw/t10k-labels-idx1-ubyte.gz\n"
          ]
        },
        {
          "output_type": "stream",
          "name": "stderr",
          "text": [
            "100%|██████████| 4542/4542 [00:00<00:00, 7849414.41it/s]"
          ]
        },
        {
          "output_type": "stream",
          "name": "stdout",
          "text": [
            "Extracting ./data/MNIST/raw/t10k-labels-idx1-ubyte.gz to ./data/MNIST/raw\n",
            "\n"
          ]
        },
        {
          "output_type": "stream",
          "name": "stderr",
          "text": [
            "\n"
          ]
        }
      ]
    },
    {
      "cell_type": "code",
      "source": [
        "trainset.class_to_idx"
      ],
      "metadata": {
        "colab": {
          "base_uri": "https://localhost:8080/"
        },
        "id": "5ElJqPcoTQdB",
        "outputId": "d5048f02-f0d9-43d7-a8c4-35bea5f81395"
      },
      "execution_count": null,
      "outputs": [
        {
          "output_type": "execute_result",
          "data": {
            "text/plain": [
              "{'0 - zero': 0,\n",
              " '1 - one': 1,\n",
              " '2 - two': 2,\n",
              " '3 - three': 3,\n",
              " '4 - four': 4,\n",
              " '5 - five': 5,\n",
              " '6 - six': 6,\n",
              " '7 - seven': 7,\n",
              " '8 - eight': 8,\n",
              " '9 - nine': 9}"
            ]
          },
          "metadata": {},
          "execution_count": 4
        }
      ]
    },
    {
      "cell_type": "code",
      "source": [
        "image, label = trainset[10]\n",
        "\n",
        "classes = trainset.classes\n",
        "\n",
        "print(image.shape)\n",
        "print(image.dtype)\n",
        "print(classes[label])"
      ],
      "metadata": {
        "colab": {
          "base_uri": "https://localhost:8080/"
        },
        "id": "l_NzhyMATWVp",
        "outputId": "b50172da-43b4-49dc-814f-88f278b51c60"
      },
      "execution_count": null,
      "outputs": [
        {
          "output_type": "stream",
          "name": "stdout",
          "text": [
            "torch.Size([1, 28, 28])\n",
            "torch.float32\n",
            "3 - three\n"
          ]
        }
      ]
    },
    {
      "cell_type": "code",
      "source": [
        "plt.imshow(image.reshape(28,28), cmap = \"gray\")\n",
        "plt.show()"
      ],
      "metadata": {
        "colab": {
          "base_uri": "https://localhost:8080/",
          "height": 430
        },
        "id": "uPmgiTfaTYAC",
        "outputId": "a60abb52-a5b6-4e17-defe-1db6d273d3f5"
      },
      "execution_count": null,
      "outputs": [
        {
          "output_type": "display_data",
          "data": {
            "text/plain": [
              "<Figure size 640x480 with 1 Axes>"
            ],
            "image/png": "[encoded data removed]"
          },
          "metadata": {}
        }
      ]
    },
    {
      "cell_type": "code",
      "source": [
        "# https://paperswithcode.com/method/lenet\n",
        "# https://github.com/Elman295/Paper_with_code/blob/main/LeNet_5_Pytorch.ipynb\n",
        "class LeNet(nn.Module):\n",
        "    def __init__(self):\n",
        "        super(LeNet, self).__init__()\n",
        "        self.conv1 = nn.Conv2d(in_channels=1, out_channels=6, kernel_size=5)\n",
        "        self.conv2 = nn.Conv2d(in_channels=6, out_channels=16, kernel_size=5)\n",
        "        self.fc1 = nn.Linear(16 * 4 * 4, 120)\n",
        "        self.fc2 = nn.Linear(120, 84)\n",
        "        self.fc3 = nn.Linear(84, 10)\n",
        "        self.pool = nn.MaxPool2d(2, stride=2)\n",
        "        self.relu = nn.ReLU()\n",
        "\n",
        "    def forward(self, x):\n",
        "        x = self.pool(self.relu(self.conv1(x)))\n",
        "        x = self.pool(self.relu(self.conv2(x)))\n",
        "        x = torch.flatten(x, 1)\n",
        "        x = self.relu(self.fc1(x))\n",
        "        x = self.relu(self.fc2(x))\n",
        "        x = self.fc3(x)\n",
        "        return x"
      ],
      "metadata": {
        "id": "xsMd12TTM0i7"
      },
      "execution_count": null,
      "outputs": []
    },
    {
      "cell_type": "code",
      "source": [
        "model = LeNet().to(device)\n",
        "print(model)\n",
        "\n",
        "criterion = nn.CrossEntropyLoss()\n",
        "optimizer = optim.SGD(model.parameters(), lr=0.01, momentum=0.9)"
      ],
      "metadata": {
        "colab": {
          "base_uri": "https://localhost:8080/"
        },
        "id": "iPgl8W5VOJOH",
        "outputId": "9cc56681-8605-400c-e53c-fe8da61ba06c"
      },
      "execution_count": null,
      "outputs": [
        {
          "output_type": "stream",
          "name": "stdout",
          "text": [
            "LeNet(\n",
            "  (conv1): Conv2d(1, 6, kernel_size=(5, 5), stride=(1, 1))\n",
            "  (conv2): Conv2d(6, 16, kernel_size=(5, 5), stride=(1, 1))\n",
            "  (fc1): Linear(in_features=256, out_features=120, bias=True)\n",
            "  (fc2): Linear(in_features=120, out_features=84, bias=True)\n",
            "  (fc3): Linear(in_features=84, out_features=10, bias=True)\n",
            "  (pool): MaxPool2d(kernel_size=2, stride=2, padding=0, dilation=1, ceil_mode=False)\n",
            "  (relu): ReLU()\n",
            ")\n"
          ]
        }
      ]
    },
    {
      "cell_type": "code",
      "source": [
        "for epoch in range(10):\n",
        "    running_loss = 0.0\n",
        "    for i, data in enumerate(trainloader, 0):\n",
        "        inputs, labels = data\n",
        "        inputs, labels = inputs.to(device), labels.to(device)\n",
        "\n",
        "        optimizer.zero_grad()\n",
        "        outputs = model(inputs)\n",
        "        loss = criterion(outputs, labels)\n",
        "        loss.backward()\n",
        "        optimizer.step()\n",
        "        running_loss += loss.item()\n",
        "        if i % 100 == 99:\n",
        "            print(f'[Epoch {epoch + 1}, Batch {i + 1}] loss: {running_loss / 100:.3f}')\n",
        "            running_loss = 0.0"
      ],
      "metadata": {
        "colab": {
          "base_uri": "https://localhost:8080/"
        },
        "id": "cg8w9qMYOLaY",
        "outputId": "2c1f1305-f84e-4d7d-b5bc-6dd100513b62"
      },
      "execution_count": null,
      "outputs": [
        {
          "output_type": "stream",
          "name": "stdout",
          "text": [
            "[Epoch 1, Batch 100] loss: 2.263\n",
            "[Epoch 1, Batch 200] loss: 0.917\n",
            "[Epoch 1, Batch 300] loss: 0.269\n",
            "[Epoch 1, Batch 400] loss: 0.191\n",
            "[Epoch 1, Batch 500] loss: 0.160\n",
            "[Epoch 1, Batch 600] loss: 0.130\n",
            "[Epoch 1, Batch 700] loss: 0.119\n",
            "[Epoch 1, Batch 800] loss: 0.111\n",
            "[Epoch 1, Batch 900] loss: 0.105\n",
            "[Epoch 2, Batch 100] loss: 0.088\n",
            "[Epoch 2, Batch 200] loss: 0.076\n",
            "[Epoch 2, Batch 300] loss: 0.083\n",
            "[Epoch 2, Batch 400] loss: 0.084\n",
            "[Epoch 2, Batch 500] loss: 0.082\n",
            "[Epoch 2, Batch 600] loss: 0.075\n",
            "[Epoch 2, Batch 700] loss: 0.067\n",
            "[Epoch 2, Batch 800] loss: 0.063\n",
            "[Epoch 2, Batch 900] loss: 0.063\n",
            "[Epoch 3, Batch 100] loss: 0.055\n",
            "[Epoch 3, Batch 200] loss: 0.061\n",
            "[Epoch 3, Batch 300] loss: 0.047\n",
            "[Epoch 3, Batch 400] loss: 0.047\n",
            "[Epoch 3, Batch 500] loss: 0.053\n",
            "[Epoch 3, Batch 600] loss: 0.051\n",
            "[Epoch 3, Batch 700] loss: 0.050\n",
            "[Epoch 3, Batch 800] loss: 0.060\n",
            "[Epoch 3, Batch 900] loss: 0.048\n",
            "[Epoch 4, Batch 100] loss: 0.046\n",
            "[Epoch 4, Batch 200] loss: 0.036\n",
            "[Epoch 4, Batch 300] loss: 0.037\n",
            "[Epoch 4, Batch 400] loss: 0.038\n",
            "[Epoch 4, Batch 500] loss: 0.034\n",
            "[Epoch 4, Batch 600] loss: 0.047\n",
            "[Epoch 4, Batch 700] loss: 0.055\n",
            "[Epoch 4, Batch 800] loss: 0.035\n",
            "[Epoch 4, Batch 900] loss: 0.034\n",
            "[Epoch 5, Batch 100] loss: 0.031\n",
            "[Epoch 5, Batch 200] loss: 0.042\n",
            "[Epoch 5, Batch 300] loss: 0.030\n",
            "[Epoch 5, Batch 400] loss: 0.031\n",
            "[Epoch 5, Batch 500] loss: 0.026\n",
            "[Epoch 5, Batch 600] loss: 0.032\n",
            "[Epoch 5, Batch 700] loss: 0.028\n",
            "[Epoch 5, Batch 800] loss: 0.036\n",
            "[Epoch 5, Batch 900] loss: 0.036\n",
            "[Epoch 6, Batch 100] loss: 0.029\n",
            "[Epoch 6, Batch 200] loss: 0.026\n",
            "[Epoch 6, Batch 300] loss: 0.028\n",
            "[Epoch 6, Batch 400] loss: 0.027\n",
            "[Epoch 6, Batch 500] loss: 0.028\n",
            "[Epoch 6, Batch 600] loss: 0.028\n",
            "[Epoch 6, Batch 700] loss: 0.023\n",
            "[Epoch 6, Batch 800] loss: 0.027\n",
            "[Epoch 6, Batch 900] loss: 0.032\n",
            "[Epoch 7, Batch 100] loss: 0.017\n",
            "[Epoch 7, Batch 200] loss: 0.027\n",
            "[Epoch 7, Batch 300] loss: 0.024\n",
            "[Epoch 7, Batch 400] loss: 0.019\n",
            "[Epoch 7, Batch 500] loss: 0.017\n",
            "[Epoch 7, Batch 600] loss: 0.023\n",
            "[Epoch 7, Batch 700] loss: 0.029\n",
            "[Epoch 7, Batch 800] loss: 0.023\n",
            "[Epoch 7, Batch 900] loss: 0.023\n",
            "[Epoch 8, Batch 100] loss: 0.021\n",
            "[Epoch 8, Batch 200] loss: 0.011\n",
            "[Epoch 8, Batch 300] loss: 0.020\n",
            "[Epoch 8, Batch 400] loss: 0.028\n",
            "[Epoch 8, Batch 500] loss: 0.015\n",
            "[Epoch 8, Batch 600] loss: 0.019\n",
            "[Epoch 8, Batch 700] loss: 0.027\n",
            "[Epoch 8, Batch 800] loss: 0.019\n",
            "[Epoch 8, Batch 900] loss: 0.018\n",
            "[Epoch 9, Batch 100] loss: 0.017\n",
            "[Epoch 9, Batch 200] loss: 0.012\n",
            "[Epoch 9, Batch 300] loss: 0.022\n",
            "[Epoch 9, Batch 400] loss: 0.019\n",
            "[Epoch 9, Batch 500] loss: 0.014\n",
            "[Epoch 9, Batch 600] loss: 0.018\n",
            "[Epoch 9, Batch 700] loss: 0.014\n",
            "[Epoch 9, Batch 800] loss: 0.014\n",
            "[Epoch 9, Batch 900] loss: 0.022\n",
            "[Epoch 10, Batch 100] loss: 0.013\n",
            "[Epoch 10, Batch 200] loss: 0.011\n",
            "[Epoch 10, Batch 300] loss: 0.012\n",
            "[Epoch 10, Batch 400] loss: 0.014\n",
            "[Epoch 10, Batch 500] loss: 0.018\n",
            "[Epoch 10, Batch 600] loss: 0.013\n",
            "[Epoch 10, Batch 700] loss: 0.017\n",
            "[Epoch 10, Batch 800] loss: 0.014\n",
            "[Epoch 10, Batch 900] loss: 0.016\n"
          ]
        }
      ]
    },
    {
      "cell_type": "code",
      "source": [
        "correct = 0\n",
        "total = 0\n",
        "incorrect = []\n",
        "\n",
        "with torch.no_grad():\n",
        "    for data in testloader:\n",
        "        images, labels = data\n",
        "        images, labels = images.to(device), labels.to(device)\n",
        "        outputs = model(images)\n",
        "        _, predicted = torch.max(outputs.data, 1)\n",
        "        total += labels.size(0)\n",
        "        correct += (predicted == labels).sum().item()\n",
        "\n",
        "\n",
        "print(f'Accuracy of the network on the 10000 test images: {100 * correct / total}%')"
      ],
      "metadata": {
        "colab": {
          "base_uri": "https://localhost:8080/"
        },
        "id": "iT3_4lt2Oiok",
        "outputId": "a00f4282-74f3-46d9-c7ab-2253cac89ee3"
      },
      "execution_count": null,
      "outputs": [
        {
          "output_type": "stream",
          "name": "stdout",
          "text": [
            "Accuracy of the network on the 10000 test images: 98.85%\n"
          ]
        }
      ]
    },
    {
      "cell_type": "code",
      "source": [],
      "metadata": {
        "colab": {
          "base_uri": "https://localhost:8080/"
        },
        "id": "HCxmSeLqUbrs",
        "outputId": "25e89987-59c0-4d6d-ceb5-456dd4a51585"
      },
      "execution_count": null,
      "outputs": [
        {
          "output_type": "execute_result",
          "data": {
            "text/plain": [
              "tensor([False, False, False, False, False, False, False, False, False, False,\n",
              "        False, False, False, False, False, False], device='cuda:0')"
            ]
          },
          "metadata": {},
          "execution_count": 11
        }
      ]
    },
    {
      "cell_type": "code",
      "source": [],
      "metadata": {
        "id": "jMOo5JmTV8mP"
      },
      "execution_count": null,
      "outputs": []
    }
  ]
}