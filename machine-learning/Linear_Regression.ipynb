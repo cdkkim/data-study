{
  "nbformat": 4,
  "nbformat_minor": 0,
  "metadata": {
    "colab": {
      "provenance": []
    },
    "kernelspec": {
      "name": "python3",
      "display_name": "Python 3"
    },
    "language_info": {
      "name": "python"
    }
  },
  "cells": [
    {
      "cell_type": "code",
      "execution_count": null,
      "metadata": {
        "id": "Tg6MCoaRZxhD"
      },
      "outputs": [],
      "source": [
        "import numpy as np\n",
        "import matplotlib.pyplot as plt"
      ]
    },
    {
      "cell_type": "code",
      "source": [
        "# y = 3.14 * x + 2.4\n",
        "x = np.random.rand(100)\n",
        "e = (np.random.rand(100) - .5) * 0.1\n",
        "y = 3.14 * x + 2.4 + e"
      ],
      "metadata": {
        "id": "EHW1_4kAaZ4s"
      },
      "execution_count": null,
      "outputs": []
    },
    {
      "cell_type": "code",
      "source": [
        "# https://www.kdnuggets.com/linear-regression-from-scratch-with-numpy\n",
        "class LinearRegression:\n",
        "    def __init__(self, lr: int = 0.01, n_iters: int = 1000) -> None:\n",
        "        self.lr = lr\n",
        "        self.n_iters = n_iters\n",
        "        self.weights = None\n",
        "        self.bias = None\n",
        "\n",
        "    def fit(self, X_train, y_train):\n",
        "        num_samples, num_features = X.shape     # X shape [N, f]\n",
        "        self.weights = np.random.rand(num_features)  # W shape [f, 1]\n",
        "        self.bias = 0\n",
        "\n",
        "        for i in range(self.n_iters):\n",
        "\n",
        "            # y_pred shape should be N, 1\n",
        "            y_pred = np.dot(X_train, self.weights) + self.bias\n",
        "\n",
        "            # Cost\n",
        "            dw = (1 / num_samples) * np.dot(X.T, y_pred - y_train)\n",
        "            db = (1 / num_samples) * np.sum(y_pred - y)\n",
        "\n",
        "            self.weights = self.weights - self.lr * dw\n",
        "            self.bias = self.bias - self.lr * db\n",
        "\n",
        "        return self\n",
        "\n",
        "    def predict(self, X):\n",
        "        return np.dot(X, self.weights) + self.bias"
      ],
      "metadata": {
        "id": "T4Illc0Ua7hi"
      },
      "execution_count": null,
      "outputs": []
    },
    {
      "cell_type": "code",
      "source": [
        "model = LinearRegression()\n",
        "model.fit(x.reshape(-1, 1), y)\n",
        "print(\"slope:\", model.weights, \"bias\", model.bias)"
      ],
      "metadata": {
        "colab": {
          "base_uri": "https://localhost:8080/"
        },
        "id": "_4sEkDLFbR9f",
        "outputId": "25d0fe50-b0f5-430f-dcf0-f6c0f39d0bbd"
      },
      "execution_count": null,
      "outputs": [
        {
          "output_type": "stream",
          "name": "stdout",
          "text": [
            "slope: [2.61679788] bias 2.668727756137679\n"
          ]
        }
      ]
    },
    {
      "cell_type": "code",
      "source": [
        "model = LinearRegression(n_iters=int(1e5))\n",
        "model.fit(x.reshape(-1, 1), y)\n",
        "print(\"slope:\", model.weights, \"bias\", model.bias)"
      ],
      "metadata": {
        "colab": {
          "base_uri": "https://localhost:8080/"
        },
        "id": "KD2J7s1-jQEG",
        "outputId": "e3a7cbcb-729c-404b-bc09-ee7fae2e1b0a"
      },
      "execution_count": null,
      "outputs": [
        {
          "output_type": "stream",
          "name": "stdout",
          "text": [
            "slope: [3.14602701] bias 2.3986781031811195\n"
          ]
        }
      ]
    },
    {
      "cell_type": "code",
      "source": [
        "test_x = np.random.rand(100)\n",
        "pred_y = [model.predict(x) for x in test_x]\n",
        "pred_y[:10]"
      ],
      "metadata": {
        "colab": {
          "base_uri": "https://localhost:8080/"
        },
        "id": "4912RPjjib8R",
        "outputId": "e63f813d-f927-4afc-c054-d958b11edb9c"
      },
      "execution_count": null,
      "outputs": [
        {
          "output_type": "execute_result",
          "data": {
            "text/plain": [
              "[array([3.74906229]),\n",
              " array([2.80489154]),\n",
              " array([4.29889611]),\n",
              " array([3.01354055]),\n",
              " array([3.9376742]),\n",
              " array([3.46381241]),\n",
              " array([3.20421163]),\n",
              " array([2.84173219]),\n",
              " array([3.8837157]),\n",
              " array([3.23132616])]"
            ]
          },
          "metadata": {},
          "execution_count": 14
        }
      ]
    },
    {
      "cell_type": "code",
      "source": [
        "plt.scatter(test_x, pred_y)"
      ],
      "metadata": {
        "colab": {
          "base_uri": "https://localhost:8080/",
          "height": 447
        },
        "id": "Ym-9vng2ixnV",
        "outputId": "cf6d486e-ea73-4606-ca10-472e9ab184eb"
      },
      "execution_count": null,
      "outputs": [
        {
          "output_type": "execute_result",
          "data": {
            "text/plain": [
              "<matplotlib.collections.PathCollection at 0x79d83a059240>"
            ]
          },
          "metadata": {},
          "execution_count": 59
        },
        {
          "output_type": "display_data",
          "data": {
            "text/plain": [
              "<Figure size 640x480 with 1 Axes>"
            ],
            "image/png": "[encoded data removed]"
          },
          "metadata": {}
        }
      ]
    },
    {
      "cell_type": "markdown",
      "source": [
        "# PyTorch Version"
      ],
      "metadata": {
        "id": "GFFpNjsnoHBg"
      }
    },
    {
      "cell_type": "code",
      "source": [
        "import numpy as np\n",
        "\n",
        "import torch\n",
        "import torch.nn as nn\n",
        "import torch.optim as optim"
      ],
      "metadata": {
        "id": "5CbccFGVGroD"
      },
      "execution_count": null,
      "outputs": []
    },
    {
      "cell_type": "code",
      "source": [
        "# dataset\n",
        "\n",
        "X = np.random.rand(1000, 1)* 100\n",
        "e = (np.random.rand(1000, 1) - .5) * 0.1\n",
        "y = 3.14 * X + 2.4 + e # true y\n",
        "\n",
        "X_train = torch.tensor(X, dtype=torch.float32)\n",
        "y_train = torch.tensor(y, dtype=torch.float32)"
      ],
      "metadata": {
        "id": "eJdzyjO6PCdY"
      },
      "execution_count": null,
      "outputs": []
    },
    {
      "cell_type": "code",
      "source": [
        "# linear model initialized with random coefficients\n",
        "\n",
        "linear_model = torch.nn.Linear(1, 1)\n",
        "pred_y = linear_model(X_train)\n",
        "print('\\n\\nOutput:')\n",
        "print(pred_y[:10])\n",
        "\n",
        "print('\\n\\nWeight and Bias parameters:')\n",
        "for param in linear_model.parameters():\n",
        "    print(param)"
      ],
      "metadata": {
        "colab": {
          "base_uri": "https://localhost:8080/"
        },
        "id": "KtsczoriGs-E",
        "outputId": "2cd5ee60-59b2-468a-ed86-d991855db1db"
      },
      "execution_count": null,
      "outputs": [
        {
          "output_type": "stream",
          "name": "stdout",
          "text": [
            "\n",
            "\n",
            "Output:\n",
            "tensor([[0.0865],\n",
            "        [0.1053],\n",
            "        [0.0825],\n",
            "        [0.0864],\n",
            "        [0.0723],\n",
            "        [0.1000],\n",
            "        [0.0726],\n",
            "        [0.0671],\n",
            "        [0.1066],\n",
            "        [0.0797]], grad_fn=<SliceBackward0>)\n",
            "\n",
            "\n",
            "Weight and Bias parameters:\n",
            "Parameter containing:\n",
            "tensor([[0.0487]], requires_grad=True)\n",
            "Parameter containing:\n",
            "tensor([0.0605], requires_grad=True)\n"
          ]
        }
      ]
    },
    {
      "cell_type": "code",
      "source": [
        "class LinearRegression(nn.Module):\n",
        "    def __init__(self):\n",
        "        super(LinearRegression, self).__init__()\n",
        "        self.linear = nn.Linear(1, 1)\n",
        "\n",
        "    def forward(self, x):\n",
        "        return self.linear(x)\n",
        "\n",
        "# Hyperparameters\n",
        "lr = 0.01\n",
        "n_iters = 1000\n",
        "\n",
        "\n",
        "# Model initialization\n",
        "model = LinearRegression() # nn.Linear(1, 1)\n",
        "\n",
        "# Loss and optimizer\n",
        "criterion = nn.MSE()\n",
        "optimizer = optim.Adam(model.parameters(), lr=lr)\n",
        "\n",
        "# Training loop\n",
        "for epoch in range(n_iters):\n",
        "    model.train()\n",
        "\n",
        "    # Forward pass and loss calculation\n",
        "    y_pred = model(X_train)\n",
        "    loss = criterion(y_pred, y_train)\n",
        "\n",
        "    # Backward pass and optimization\n",
        "    optimizer.zero_grad()\n",
        "    loss.backward()\n",
        "    optimizer.step()"
      ],
      "metadata": {
        "id": "EUxvK9oZoFZy"
      },
      "execution_count": null,
      "outputs": []
    },
    {
      "cell_type": "code",
      "source": [
        "model.eval()\n",
        "\n",
        "# Prediction\n",
        "with torch.no_grad():\n",
        "    predicted = model(X_train).detach().numpy()\n",
        "\n",
        "# Plot\n",
        "plt.scatter(X, y, label='Original Data')\n",
        "plt.plot(X, predicted, color='red', label='Fitted Line')\n",
        "plt.xlabel('X')\n",
        "plt.ylabel('y')\n",
        "plt.legend()\n",
        "plt.show()"
      ],
      "metadata": {
        "colab": {
          "base_uri": "https://localhost:8080/",
          "height": 449
        },
        "id": "3mhFk3JoPxkI",
        "outputId": "f504e5a2-4a6e-449a-9059-ee5053669c9e"
      },
      "execution_count": null,
      "outputs": [
        {
          "output_type": "display_data",
          "data": {
            "text/plain": [
              "<Figure size 640x480 with 1 Axes>"
            ],
            "image/png": "[encoded data removed]"
          },
          "metadata": {}
        }
      ]
    },
    {
      "cell_type": "code",
      "source": [
        "[x for x in model.parameters()]"
      ],
      "metadata": {
        "colab": {
          "base_uri": "https://localhost:8080/"
        },
        "id": "edQ5LtA2oO11",
        "outputId": "5e96dbed-ab9c-4f2f-fc82-05aefbd980d4"
      },
      "execution_count": null,
      "outputs": [
        {
          "output_type": "execute_result",
          "data": {
            "text/plain": [
              "[Parameter containing:\n",
              " tensor([[3.1461]], requires_grad=True),\n",
              " Parameter containing:\n",
              " tensor([2.3922], requires_grad=True)]"
            ]
          },
          "metadata": {},
          "execution_count": 6
        }
      ]
    },
    {
      "cell_type": "code",
      "source": [
        "# Access the learned parameters\n",
        "weights = model.linear.weight.data\n",
        "bias = model.linear.bias.data\n",
        "print(f'Weights: {weights.item()}, Bias: {bias.item()}')"
      ],
      "metadata": {
        "id": "Gnor8jUsqaQ9",
        "colab": {
          "base_uri": "https://localhost:8080/"
        },
        "outputId": "69f6f081-1b22-44b6-a977-f7ebc7726739"
      },
      "execution_count": null,
      "outputs": [
        {
          "output_type": "stream",
          "name": "stdout",
          "text": [
            "Weights: 3.1461009979248047, Bias: 2.3922410011291504\n"
          ]
        }
      ]
    },
    {
      "cell_type": "code",
      "source": [],
      "metadata": {
        "id": "s0tPJd8cGqoY"
      },
      "execution_count": null,
      "outputs": []
    },
    {
      "cell_type": "code",
      "source": [
        "'(asdfs{(]adf)'\n",
        "'(a{sdfs()}{adf})'\n",
        "\n",
        "s = ['(', '{', '(']\n",
        "s= ['(', ]\n"
      ],
      "metadata": {
        "id": "1hoL_nQ1Gg0Z"
      },
      "execution_count": null,
      "outputs": []
    }
  ]
}