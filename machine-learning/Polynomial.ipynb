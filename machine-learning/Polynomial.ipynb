{
  "nbformat": 4,
  "nbformat_minor": 0,
  "metadata": {
    "colab": {
      "provenance": []
    },
    "kernelspec": {
      "name": "python3",
      "display_name": "Python 3"
    },
    "language_info": {
      "name": "python"
    }
  },
  "cells": [
    {
      "cell_type": "code",
      "execution_count": null,
      "metadata": {
        "id": "0RQ85WVqaiuv"
      },
      "outputs": [],
      "source": [
        "import numpy as np\n",
        "import matplotlib.pyplot as plt\n",
        "\n",
        "import torch\n",
        "import torch.nn as nn\n",
        "import torch.optim as optim"
      ]
    },
    {
      "cell_type": "code",
      "source": [
        "# dataset\n",
        "\n",
        "X = np.random.rand(100, 1) * 10\n",
        "e = (np.random.rand(100, 1) - .5) * 0.1\n",
        "\n",
        "# y = 3.14x + 2.4\n",
        "y = 3.14 * np.sin(X) + 5 * X + 2.4 + e\n",
        "\n",
        "X_train = torch.tensor(X, dtype=torch.float32)\n",
        "y_train = torch.tensor(y, dtype=torch.float32)"
      ],
      "metadata": {
        "id": "4xJHyR67an5P"
      },
      "execution_count": null,
      "outputs": []
    },
    {
      "cell_type": "code",
      "source": [
        "class LinearRegression(nn.Module):\n",
        "    def __init__(self):\n",
        "        super(LinearRegression, self).__init__()\n",
        "        self.linear = nn.Linear(1, 1)\n",
        "        nn.cnn(3, 3, 63)\n",
        "\n",
        "    def forward(self, x):\n",
        "        return self.linear(x)\n",
        "\n",
        "# Hyperparameters\n",
        "lr = 0.01\n",
        "n_iters = int(1e4)\n",
        "\n",
        "# Model initialization\n",
        "model = LinearRegression() # nn.Linear(1, 1)\n",
        "\n",
        "# Loss and optimizer\n",
        "criterion = nn.L1Loss()\n",
        "optimizer = optim.SGD(model.parameters(), lr=lr)\n",
        "\n",
        "# Training loop\n",
        "for epoch in range(n_iters):\n",
        "    model.train()\n",
        "\n",
        "    # Forward pass and loss calculation\n",
        "    y_pred = model(X_train)\n",
        "    loss = criterion(y_pred, y_train)\n",
        "\n",
        "    # Backward pass and optimization\n",
        "    optimizer.zero_grad()\n",
        "    loss.backward()\n",
        "    optimizer.step()"
      ],
      "metadata": {
        "id": "6wQbUY0Ca0M8"
      },
      "execution_count": null,
      "outputs": []
    },
    {
      "cell_type": "code",
      "source": [
        "model.eval()\n",
        "\n",
        "# Prediction\n",
        "with torch.no_grad():\n",
        "    predicted = model(X_train).detach().numpy()\n",
        "\n",
        "# Plot\n",
        "plt.scatter(X, y, label='Original Data')\n",
        "plt.plot(X, predicted, color='red', label='Fitted Line')\n",
        "plt.xlabel('X')\n",
        "plt.ylabel('y')\n",
        "plt.legend()\n",
        "plt.show()"
      ],
      "metadata": {
        "colab": {
          "base_uri": "https://localhost:8080/",
          "height": 449
        },
        "id": "4D5us6Zua4Nk",
        "outputId": "920b2fc9-40ee-4018-a60b-9e7175934681"
      },
      "execution_count": null,
      "outputs": [
        {
          "output_type": "display_data",
          "data": {
            "text/plain": [
              "<Figure size 640x480 with 1 Axes>"
            ],
            "image/png": "[encoded data removed]"
          },
          "metadata": {}
        }
      ]
    },
    {
      "cell_type": "code",
      "source": [
        "[x for x in model.parameters()]"
      ],
      "metadata": {
        "colab": {
          "base_uri": "https://localhost:8080/"
        },
        "id": "kkwOGxgia4We",
        "outputId": "0183640d-7d0a-4ec8-af8f-1e7ff3845cd7"
      },
      "execution_count": null,
      "outputs": [
        {
          "output_type": "execute_result",
          "data": {
            "text/plain": [
              "[Parameter containing:\n",
              " tensor([[4.9377]], requires_grad=True),\n",
              " Parameter containing:\n",
              " tensor([4.0890], requires_grad=True)]"
            ]
          },
          "metadata": {},
          "execution_count": 5
        }
      ]
    },
    {
      "cell_type": "markdown",
      "source": [
        "# 2 Hidden layers"
      ],
      "metadata": {
        "id": "YAYoXNHHTwJn"
      }
    },
    {
      "cell_type": "code",
      "source": [
        "# https://pytorch.org/tutorials/beginner/introyt/modelsyt_tutorial.html\n",
        "class Polynomial(nn.Module):\n",
        "    def __init__(self):\n",
        "        super(Polynomial, self).__init__()\n",
        "        self.fc1 = nn.Linear(1, 100)\n",
        "        self.relu = torch.nn.LeakyReLU()\n",
        "        self.fc2 = torch.nn.Linear(100, 100)\n",
        "        self.fc3 = torch.nn.Linear(100, 1)\n",
        "\n",
        "    def forward(self, x):\n",
        "        x = self.relu(self.fc1(x))\n",
        "        x = self.relu(self.fc2(x))\n",
        "        x = self.fc3(x)\n",
        "        return x\n",
        "\n",
        "# Hyperparameters\n",
        "lr = 0.01\n",
        "n_iters = int(1e3)\n",
        "\n",
        "# Model initialization\n",
        "model = Polynomial()\n",
        "\n",
        "# Loss and optimizer\n",
        "criterion = nn.MSELoss()\n",
        "optimizer = optim.Adam(model.parameters(), lr=lr)\n",
        "\n",
        "# Training loop\n",
        "for epoch in range(n_iters):\n",
        "    model.train()\n",
        "\n",
        "    # Forward pass and loss calculation\n",
        "    y_pred = model(X_train)\n",
        "    loss = criterion(y_pred, y_train)\n",
        "\n",
        "    # Backward pass and optimization\n",
        "    optimizer.zero_grad()\n",
        "    loss.backward()\n",
        "    optimizer.step()"
      ],
      "metadata": {
        "id": "LHkpQ2Caa9pz"
      },
      "execution_count": null,
      "outputs": []
    },
    {
      "cell_type": "code",
      "source": [
        "model.eval()\n",
        "\n",
        "# Prediction\n",
        "with torch.no_grad():\n",
        "    predicted = model(X_train).detach().numpy()\n",
        "\n",
        "# Plot\n",
        "plt.scatter(X, y, label='Original Data')\n",
        "plt.scatter(X, predicted, color='red', label='Fitted Line')\n",
        "plt.xlabel('X')\n",
        "plt.ylabel('y')\n",
        "plt.legend()\n",
        "plt.show()"
      ],
      "metadata": {
        "colab": {
          "base_uri": "https://localhost:8080/",
          "height": 449
        },
        "id": "QmxcOJRzbosm",
        "outputId": "76b3d94d-ad8c-4e3f-ea60-86de26813dd4"
      },
      "execution_count": null,
      "outputs": [
        {
          "output_type": "display_data",
          "data": {
            "text/plain": [
              "<Figure size 640x480 with 1 Axes>"
            ],
            "image/png": "[encoded data removed]"
          },
          "metadata": {}
        }
      ]
    },
    {
      "cell_type": "markdown",
      "source": [
        "# 4 hidden layers"
      ],
      "metadata": {
        "id": "3sTq8vl9Taha"
      }
    },
    {
      "cell_type": "code",
      "source": [
        "# https://pytorch.org/tutorials/beginner/introyt/modelsyt_tutorial.html\n",
        "class PolynomialV2(nn.Module):\n",
        "    def __init__(self):\n",
        "        super(PolynomialV2, self).__init__()\n",
        "        self.fc1 = nn.Linear(1, 100)\n",
        "        self.relu = torch.nn.LeakyReLU()\n",
        "        self.fc2 = torch.nn.Linear(100, 100)\n",
        "        self.fc3 = torch.nn.Linear(100, 100)\n",
        "        self.fc4 = torch.nn.Linear(100, 100)\n",
        "        self.fc5 = torch.nn.Linear(100, 1)\n",
        "\n",
        "    def forward(self, x):\n",
        "        x = self.relu(self.fc1(x))\n",
        "        x = self.relu(self.fc2(x))\n",
        "        x = self.relu(self.fc3(x))\n",
        "        x = self.relu(self.fc4(x))\n",
        "        x = self.fc5(x)\n",
        "        return x\n",
        "\n",
        "# Hyperparameters\n",
        "lr = 0.01\n",
        "n_iters = int(1e4)\n",
        "\n",
        "# Model initialization\n",
        "model = PolynomialV2()\n",
        "\n",
        "# Loss and optimizer\n",
        "criterion = nn.MSELoss()\n",
        "optimizer = optim.Adam(model.parameters(), lr=lr)\n",
        "\n",
        "# Training loop\n",
        "for epoch in range(n_iters):\n",
        "    model.train()\n",
        "\n",
        "    # Forward pass and loss calculation\n",
        "    y_pred = model(X_train)\n",
        "    loss = criterion(y_pred, y_train)\n",
        "\n",
        "    # Backward pass and optimization\n",
        "    optimizer.zero_grad()\n",
        "    loss.backward()\n",
        "    optimizer.step()"
      ],
      "metadata": {
        "id": "VlSzzQUlSYiY"
      },
      "execution_count": null,
      "outputs": []
    },
    {
      "cell_type": "code",
      "source": [
        "model.eval()\n",
        "\n",
        "# Prediction\n",
        "with torch.no_grad():\n",
        "    predicted = model(X_train).detach().numpy()\n",
        "\n",
        "# Plot\n",
        "plt.scatter(X, y, label='Original Data')\n",
        "plt.scatter(X, predicted, color='red', label='Fitted Line')\n",
        "plt.xlabel('X')\n",
        "plt.ylabel('y')\n",
        "plt.legend()\n",
        "plt.show()"
      ],
      "metadata": {
        "colab": {
          "base_uri": "https://localhost:8080/",
          "height": 449
        },
        "id": "xd9NygrBTjjV",
        "outputId": "6e71a605-5a98-4698-b44a-8662908cf547"
      },
      "execution_count": null,
      "outputs": [
        {
          "output_type": "display_data",
          "data": {
            "text/plain": [
              "<Figure size 640x480 with 1 Axes>"
            ],
            "image/png": "[encoded data removed]"
          },
          "metadata": {}
        }
      ]
    },
    {
      "cell_type": "code",
      "source": [
        "[a for a in model.parameters()]"
      ],
      "metadata": {
        "colab": {
          "base_uri": "https://localhost:8080/"
        },
        "id": "zlppnE6HTmR4",
        "outputId": "b4f9c0d5-3f99-4542-ed08-6e04645abdf6"
      },
      "execution_count": null,
      "outputs": [
        {
          "output_type": "execute_result",
          "data": {
            "text/plain": [
              "[Parameter containing:\n",
              " tensor([[-9.1251e-01],\n",
              "         [-3.1540e-01],\n",
              "         [-1.3438e-01],\n",
              "         [ 1.6145e-01],\n",
              "         [-1.1095e-02],\n",
              "         [ 6.3974e-01],\n",
              "         [ 2.0601e-01],\n",
              "         [-4.6520e-01],\n",
              "         [ 2.8834e-01],\n",
              "         [-2.0868e-01],\n",
              "         [-4.7310e-01],\n",
              "         [-2.7249e-01],\n",
              "         [-2.4637e-01],\n",
              "         [-2.2430e-01],\n",
              "         [ 6.3724e-01],\n",
              "         [ 5.8746e-01],\n",
              "         [-9.2255e-01],\n",
              "         [ 3.0090e-01],\n",
              "         [-7.0805e-01],\n",
              "         [ 8.1734e-01],\n",
              "         [ 5.2209e-01],\n",
              "         [-6.3487e-01],\n",
              "         [-3.4287e-01],\n",
              "         [-2.0287e-01],\n",
              "         [ 3.0138e-03],\n",
              "         [ 9.4118e-01],\n",
              "         [ 5.3093e-01],\n",
              "         [-1.2348e-01],\n",
              "         [ 2.2818e-01],\n",
              "         [ 1.1107e-02],\n",
              "         [-1.3021e-01],\n",
              "         [ 4.7754e-01],\n",
              "         [ 9.5282e-01],\n",
              "         [-3.7911e-01],\n",
              "         [-6.1771e-01],\n",
              "         [ 1.1451e-01],\n",
              "         [ 9.4549e-01],\n",
              "         [ 3.9829e-01],\n",
              "         [ 4.0720e-01],\n",
              "         [ 2.1550e-01],\n",
              "         [ 4.1836e-04],\n",
              "         [-2.8042e-01],\n",
              "         [ 8.6055e-01],\n",
              "         [ 3.5058e-01],\n",
              "         [ 2.6329e-01],\n",
              "         [ 5.9798e-01],\n",
              "         [ 9.6688e-01],\n",
              "         [ 2.2194e-01],\n",
              "         [ 9.6191e-01],\n",
              "         [-2.9570e-01],\n",
              "         [-1.1132e-01],\n",
              "         [ 2.0826e-02],\n",
              "         [-2.0056e-01],\n",
              "         [ 1.4201e-01],\n",
              "         [-2.9810e-01],\n",
              "         [-3.6402e-01],\n",
              "         [-8.7824e-01],\n",
              "         [ 3.8739e-01],\n",
              "         [-9.0138e-01],\n",
              "         [-7.6440e-02],\n",
              "         [ 4.0792e-01],\n",
              "         [-7.5933e-01],\n",
              "         [ 4.8840e-01],\n",
              "         [ 6.3198e-02],\n",
              "         [-5.2042e-01],\n",
              "         [-4.1263e-01],\n",
              "         [-2.4791e-01],\n",
              "         [-3.8407e-01],\n",
              "         [-5.7769e-03],\n",
              "         [-8.5219e-02],\n",
              "         [ 5.7534e-01],\n",
              "         [-4.0375e-01],\n",
              "         [-2.2052e-01],\n",
              "         [ 1.9663e-02],\n",
              "         [ 3.1133e-01],\n",
              "         [-7.5466e-02],\n",
              "         [ 6.0536e-01],\n",
              "         [ 5.8548e-01],\n",
              "         [-1.6616e-01],\n",
              "         [ 1.0683e-01],\n",
              "         [ 2.1420e-01],\n",
              "         [ 9.2703e-01],\n",
              "         [ 3.4098e-01],\n",
              "         [-7.5674e-01],\n",
              "         [ 7.1052e-01],\n",
              "         [ 2.0392e-01],\n",
              "         [ 3.9007e-02],\n",
              "         [ 7.0422e-01],\n",
              "         [-6.9791e-01],\n",
              "         [-5.0592e-01],\n",
              "         [ 5.5253e-01],\n",
              "         [ 3.2372e-01],\n",
              "         [-9.2575e-01],\n",
              "         [ 7.1807e-01],\n",
              "         [-9.4072e-01],\n",
              "         [-4.0398e-01],\n",
              "         [ 2.9894e-01],\n",
              "         [-3.5014e-01],\n",
              "         [ 3.8890e-01],\n",
              "         [-3.1894e-01]], requires_grad=True),\n",
              " Parameter containing:\n",
              " tensor([ 1.0678,  0.5539,  0.3651, -0.7510,  0.6880,  0.3996,  0.3516, -0.7908,\n",
              "          0.8928,  0.0054,  0.8397,  1.2680,  0.0104, -0.4359, -0.4890,  0.2859,\n",
              "         -0.3843, -0.0353, -0.0191, -0.3443,  0.2033, -0.0888,  0.1049,  0.4652,\n",
              "          0.1655, -0.5231, -0.4877, -0.6400, -1.1451,  0.6947,  0.4967, -0.2053,\n",
              "         -0.8511,  0.8746,  1.0750,  0.9729, -0.1991,  0.0213, -0.6359, -1.0820,\n",
              "         -0.4433,  1.2159, -0.3430, -0.9321,  0.4671, -0.4649, -0.4468, -0.3651,\n",
              "         -0.6697, -0.4634,  0.4479, -0.9573,  0.6359,  0.3846,  1.1509, -0.3411,\n",
              "          0.8428, -0.4042,  0.0260,  0.1057, -3.2380, -0.8130,  0.7763,  0.5738,\n",
              "          0.2875, -0.8288,  0.9449,  0.8840, -0.1463, -0.2027, -0.6496, -0.0682,\n",
              "          1.0852,  0.6420,  0.2950,  0.3760, -0.1069,  0.4267,  0.4499,  0.0422,\n",
              "         -1.0090,  0.6250, -0.3195, -0.3266, -0.6314, -0.1857, -0.0877,  0.0537,\n",
              "         -0.7688, -0.1973, -0.5463, -0.7374,  1.2185,  0.3453,  0.2602, -0.6367,\n",
              "         -0.9284, -0.4054,  0.3120, -0.0093], requires_grad=True),\n",
              " Parameter containing:\n",
              " tensor([[ 0.0880, -0.0181,  0.1342,  ..., -0.0078, -0.1790,  0.0476],\n",
              "         [-0.0506, -0.0524, -0.1908,  ..., -0.0003,  0.1065,  0.0597],\n",
              "         [ 0.1775,  0.0423,  0.1009,  ...,  0.0951, -0.0631,  0.0825],\n",
              "         ...,\n",
              "         [ 0.2324,  0.0427,  0.1690,  ...,  0.1157,  0.0483,  0.0819],\n",
              "         [-0.0715,  0.0537,  0.0302,  ...,  0.0099,  0.0349, -0.0794],\n",
              "         [-0.1453, -0.1782, -0.1178,  ..., -0.0084, -0.0389, -0.0260]],\n",
              "        requires_grad=True),\n",
              " Parameter containing:\n",
              " tensor([-6.1293e-02, -1.1396e-04,  6.3694e-02, -5.9077e-02, -1.0927e-01,\n",
              "          2.8041e-02,  1.7725e-01, -1.1832e-01,  8.8918e-03, -4.7340e-02,\n",
              "         -1.2913e-01,  1.3503e-02,  1.7863e-02, -7.0036e-02,  6.3376e-02,\n",
              "         -2.0539e-02, -1.4756e-01, -1.3051e-01,  1.7567e-03, -6.9658e-02,\n",
              "         -5.9763e-02, -9.7637e-02, -1.7498e-02, -1.4224e-01, -1.6665e-01,\n",
              "          2.2918e-02, -1.4265e-01, -1.1965e-02, -4.4712e-02, -9.6916e-02,\n",
              "          2.2675e-02,  8.3357e-02, -7.2784e-02, -1.5134e-02, -1.6341e-01,\n",
              "         -9.4140e-02,  1.6085e-01, -5.3996e-02, -8.4891e-03, -7.7582e-02,\n",
              "          5.4943e-02, -7.2395e-02, -8.0613e-02,  1.6124e-01, -1.1245e-01,\n",
              "         -1.2509e-01, -7.6335e-02, -1.1165e-01,  7.9573e-02, -1.7998e-01,\n",
              "         -1.2713e-01,  9.9226e-04, -1.1681e-01, -5.6105e-02, -2.5328e-02,\n",
              "         -6.6026e-02, -2.5470e-02,  5.2282e-02, -1.3948e-01, -2.7405e-02,\n",
              "         -1.3162e-01,  3.9477e-02, -1.4311e-01, -3.6541e-02,  1.4158e-01,\n",
              "         -6.0768e-02,  1.3568e-01, -1.5084e-01, -1.4826e-01, -7.5471e-04,\n",
              "         -1.1035e-01, -2.7826e-02, -1.0825e-01, -2.9497e-02, -1.1107e-02,\n",
              "          6.5781e-02,  5.9365e-02, -2.0428e-02, -8.0434e-02, -1.8669e-01,\n",
              "         -1.4449e-01, -8.8213e-02, -1.4651e-01,  4.5745e-02, -5.7420e-02,\n",
              "         -1.5148e-01, -1.4499e-01, -9.9465e-02,  8.2492e-03, -1.8516e-02,\n",
              "         -4.9084e-02,  1.1595e-01,  1.3834e-01, -1.2806e-01,  2.8470e-03,\n",
              "          2.5806e-02,  2.7960e-02, -4.3144e-02, -9.8948e-02, -3.7105e-02],\n",
              "        requires_grad=True),\n",
              " Parameter containing:\n",
              " tensor([[ 0.1006,  0.0397, -0.0356,  ...,  0.0525,  0.0272,  0.0584],\n",
              "         [-0.0514, -0.0970,  0.0911,  ..., -0.1279, -0.0466, -0.0976],\n",
              "         [ 0.0484, -0.0321, -0.0527,  ..., -0.0891,  0.0198,  0.0018],\n",
              "         ...,\n",
              "         [ 0.2061,  0.0114,  0.0686,  ..., -0.0665,  0.0530,  0.0101],\n",
              "         [-0.2231,  0.0435,  0.0096,  ..., -0.0954, -0.1454, -0.0254],\n",
              "         [-0.1412, -0.0182,  0.0831,  ...,  0.1384,  0.0818, -0.0122]],\n",
              "        requires_grad=True),\n",
              " Parameter containing:\n",
              " tensor([-0.0641,  0.0602,  0.0112,  0.0441,  0.0642, -0.1105,  0.0327, -0.1141,\n",
              "         -0.1363, -0.0497, -0.0634,  0.0657,  0.0909, -0.0337, -0.0401, -0.1586,\n",
              "         -0.0398, -0.1549, -0.0674, -0.0867, -0.1387, -0.1103, -0.1180, -0.0018,\n",
              "          0.0182, -0.0849, -0.0652, -0.0994, -0.1261,  0.0091,  0.0151, -0.1086,\n",
              "          0.0553,  0.0308,  0.0284, -0.0916, -0.1023,  0.0675, -0.1288, -0.0741,\n",
              "          0.0697, -0.0327, -0.1511,  0.0503, -0.0457, -0.0165,  0.0503,  0.0070,\n",
              "         -0.0691, -0.0013,  0.0040, -0.0116,  0.0241,  0.0022, -0.0467,  0.0103,\n",
              "         -0.1507,  0.0237, -0.0736, -0.1324, -0.0481, -0.0359,  0.0152, -0.0079,\n",
              "          0.0857, -0.0833, -0.0365, -0.0423,  0.0422, -0.1476,  0.0311, -0.0228,\n",
              "         -0.0556, -0.0952, -0.0021, -0.0583, -0.1258, -0.0035,  0.0514, -0.1233,\n",
              "         -0.1552, -0.0147, -0.0160, -0.1472, -0.1114, -0.0516,  0.0490,  0.0152,\n",
              "          0.0571, -0.0601,  0.0355, -0.0442, -0.0395, -0.0080, -0.0279, -0.0826,\n",
              "         -0.0208, -0.0882, -0.0615,  0.0507], requires_grad=True),\n",
              " Parameter containing:\n",
              " tensor([[-8.6288e-03,  1.0798e-01,  5.9695e-05,  ..., -1.2594e-01,\n",
              "           1.1052e-01,  7.4169e-02],\n",
              "         [-6.7056e-02, -1.8105e-02,  5.5414e-02,  ...,  3.8958e-02,\n",
              "           1.9803e-03, -3.0713e-02],\n",
              "         [-6.4315e-02,  5.5236e-03,  3.5296e-02,  ...,  1.2535e-01,\n",
              "           9.6225e-04,  4.4149e-02],\n",
              "         ...,\n",
              "         [-5.9337e-03,  6.7362e-02, -4.3238e-02,  ..., -4.7256e-02,\n",
              "          -1.2659e-02,  4.6230e-02],\n",
              "         [-1.0744e-01,  1.5022e-01,  3.3723e-02,  ..., -2.4122e-02,\n",
              "           1.6596e-02, -6.9335e-02],\n",
              "         [-1.0993e-01,  1.5313e-01,  7.2960e-02,  ..., -6.8882e-02,\n",
              "           1.8781e-02, -5.6356e-02]], requires_grad=True),\n",
              " Parameter containing:\n",
              " tensor([-0.0387, -0.0639, -0.0300,  0.0222, -0.0427, -0.0704, -0.1524,  0.0993,\n",
              "          0.1166, -0.0538, -0.1179,  0.0316,  0.0361, -0.1385,  0.0126,  0.0319,\n",
              "         -0.0677, -0.0875, -0.1400,  0.0317, -0.0182,  0.0149,  0.0287, -0.1493,\n",
              "         -0.1050, -0.1184,  0.0100, -0.0490, -0.0075,  0.0600, -0.0646, -0.1694,\n",
              "         -0.0760, -0.1635,  0.0172,  0.0860,  0.0937, -0.0482, -0.0299, -0.1202,\n",
              "          0.0118, -0.1201,  0.0282, -0.1606, -0.0061, -0.1314,  0.0314, -0.0153,\n",
              "         -0.0368,  0.0411, -0.1262, -0.0459, -0.0746,  0.0749,  0.0083, -0.0148,\n",
              "          0.1118,  0.0967, -0.0495,  0.0179,  0.0039, -0.1024,  0.1334, -0.0910,\n",
              "         -0.0014,  0.0255,  0.0282, -0.1723, -0.0259,  0.0743, -0.0411,  0.1218,\n",
              "         -0.0902, -0.1220, -0.0869, -0.0100,  0.0119, -0.0054, -0.0222, -0.1416,\n",
              "          0.0119,  0.0499, -0.0679,  0.0091, -0.0697,  0.0797, -0.1162,  0.0223,\n",
              "         -0.0313, -0.0913, -0.0584,  0.0780, -0.1596, -0.0112, -0.0490,  0.0206,\n",
              "          0.0896, -0.1101, -0.1308, -0.0443], requires_grad=True),\n",
              " Parameter containing:\n",
              " tensor([[-0.1048, -0.0112, -0.0327,  0.0658,  0.0131,  0.0007,  0.0119, -0.0083,\n",
              "          -0.0316,  0.0978, -0.1441, -0.0382, -0.0360, -0.0627, -0.0298, -0.1115,\n",
              "          -0.0887, -0.1326, -0.0888,  0.1372, -0.1191, -0.0028, -0.0832, -0.0588,\n",
              "          -0.0908,  0.0136, -0.0167,  0.1117, -0.1447,  0.0659, -0.1390,  0.0265,\n",
              "          -0.0981,  0.0158,  0.0492,  0.0698,  0.0568, -0.1101, -0.0913, -0.0133,\n",
              "          -0.0611, -0.0015,  0.0817, -0.0258,  0.0039, -0.0832, -0.1056,  0.0610,\n",
              "          -0.0658,  0.0439, -0.1060,  0.0333,  0.0441, -0.0023,  0.0738, -0.0916,\n",
              "           0.1246,  0.0346, -0.0445, -0.0830,  0.1211, -0.1387,  0.1332, -0.1275,\n",
              "           0.0412,  0.0661, -0.1181,  0.0242, -0.0686,  0.0652, -0.0808,  0.0592,\n",
              "          -0.0087, -0.0854, -0.1318,  0.0033, -0.0644, -0.0471,  0.0199,  0.0149,\n",
              "           0.0323,  0.0523,  0.0564,  0.1452,  0.0246,  0.1143, -0.0204, -0.0485,\n",
              "           0.0207, -0.0468, -0.0453,  0.1029, -0.0391,  0.0309,  0.0355, -0.0196,\n",
              "           0.1262, -0.1079, -0.0884,  0.0222]], requires_grad=True),\n",
              " Parameter containing:\n",
              " tensor([0.1025], requires_grad=True)]"
            ]
          },
          "metadata": {},
          "execution_count": 38
        }
      ]
    },
    {
      "cell_type": "code",
      "source": [],
      "metadata": {
        "id": "rRo65GBMUg4N"
      },
      "execution_count": null,
      "outputs": []
    }
  ]
}