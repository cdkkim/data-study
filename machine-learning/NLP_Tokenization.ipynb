{
  "nbformat": 4,
  "nbformat_minor": 0,
  "metadata": {
    "colab": {
      "provenance": []
    },
    "kernelspec": {
      "name": "python3",
      "display_name": "Python 3"
    },
    "language_info": {
      "name": "python"
    },
    "widgets": {
      "application/vnd.jupyter.widget-state+json": {
        "63015017653742b69494245a37869635": {
          "model_module": "@jupyter-widgets/controls",
          "model_name": "HBoxModel",
          "model_module_version": "1.5.0",
          "state": {
            "_dom_classes": [],
            "_model_module": "@jupyter-widgets/controls",
            "_model_module_version": "1.5.0",
            "_model_name": "HBoxModel",
            "_view_count": null,
            "_view_module": "@jupyter-widgets/controls",
            "_view_module_version": "1.5.0",
            "_view_name": "HBoxView",
            "box_style": "",
            "children": [
              "IPY_MODEL_4d48b2ae05d8437490c2fc00cf3edaff",
              "IPY_MODEL_9f320b8c14f84796b1072b5926e0ec09",
              "IPY_MODEL_e918d4a696dc485aacba5fd77e530568"
            ],
            "layout": "IPY_MODEL_1a7331d1844744a98aa6c2f7a413ac36"
          }
        },
        "4d48b2ae05d8437490c2fc00cf3edaff": {
          "model_module": "@jupyter-widgets/controls",
          "model_name": "HTMLModel",
          "model_module_version": "1.5.0",
          "state": {
            "_dom_classes": [],
            "_model_module": "@jupyter-widgets/controls",
            "_model_module_version": "1.5.0",
            "_model_name": "HTMLModel",
            "_view_count": null,
            "_view_module": "@jupyter-widgets/controls",
            "_view_module_version": "1.5.0",
            "_view_name": "HTMLView",
            "description": "",
            "description_tooltip": null,
            "layout": "IPY_MODEL_3e201f7221cc41268c5e25586e6f2dba",
            "placeholder": "​",
            "style": "IPY_MODEL_71a450ce77e041809cdca4b01f375d6f",
            "value": "tokenizer_config.json: 100%"
          }
        },
        "9f320b8c14f84796b1072b5926e0ec09": {
          "model_module": "@jupyter-widgets/controls",
          "model_name": "FloatProgressModel",
          "model_module_version": "1.5.0",
          "state": {
            "_dom_classes": [],
            "_model_module": "@jupyter-widgets/controls",
            "_model_module_version": "1.5.0",
            "_model_name": "FloatProgressModel",
            "_view_count": null,
            "_view_module": "@jupyter-widgets/controls",
            "_view_module_version": "1.5.0",
            "_view_name": "ProgressView",
            "bar_style": "success",
            "description": "",
            "description_tooltip": null,
            "layout": "IPY_MODEL_156fcaf282a1489ea7eb55d7b4110043",
            "max": 60,
            "min": 0,
            "orientation": "horizontal",
            "style": "IPY_MODEL_d93fb349a5704ed9984cc8fbfbbecb67",
            "value": 60
          }
        },
        "e918d4a696dc485aacba5fd77e530568": {
          "model_module": "@jupyter-widgets/controls",
          "model_name": "HTMLModel",
          "model_module_version": "1.5.0",
          "state": {
            "_dom_classes": [],
            "_model_module": "@jupyter-widgets/controls",
            "_model_module_version": "1.5.0",
            "_model_name": "HTMLModel",
            "_view_count": null,
            "_view_module": "@jupyter-widgets/controls",
            "_view_module_version": "1.5.0",
            "_view_name": "HTMLView",
            "description": "",
            "description_tooltip": null,
            "layout": "IPY_MODEL_79691ac550f94550b333c463f1788076",
            "placeholder": "​",
            "style": "IPY_MODEL_2450f4e12c6945a5a47360bd26bb0fc6",
            "value": " 60.0/60.0 [00:00&lt;00:00, 1.14kB/s]"
          }
        },
        "1a7331d1844744a98aa6c2f7a413ac36": {
          "model_module": "@jupyter-widgets/base",
          "model_name": "LayoutModel",
          "model_module_version": "1.2.0",
          "state": {
            "_model_module": "@jupyter-widgets/base",
            "_model_module_version": "1.2.0",
            "_model_name": "LayoutModel",
            "_view_count": null,
            "_view_module": "@jupyter-widgets/base",
            "_view_module_version": "1.2.0",
            "_view_name": "LayoutView",
            "align_content": null,
            "align_items": null,
            "align_self": null,
            "border": null,
            "bottom": null,
            "display": null,
            "flex": null,
            "flex_flow": null,
            "grid_area": null,
            "grid_auto_columns": null,
            "grid_auto_flow": null,
            "grid_auto_rows": null,
            "grid_column": null,
            "grid_gap": null,
            "grid_row": null,
            "grid_template_areas": null,
            "grid_template_columns": null,
            "grid_template_rows": null,
            "height": null,
            "justify_content": null,
            "justify_items": null,
            "left": null,
            "margin": null,
            "max_height": null,
            "max_width": null,
            "min_height": null,
            "min_width": null,
            "object_fit": null,
            "object_position": null,
            "order": null,
            "overflow": null,
            "overflow_x": null,
            "overflow_y": null,
            "padding": null,
            "right": null,
            "top": null,
            "visibility": null,
            "width": null
          }
        },
        "3e201f7221cc41268c5e25586e6f2dba": {
          "model_module": "@jupyter-widgets/base",
          "model_name": "LayoutModel",
          "model_module_version": "1.2.0",
          "state": {
            "_model_module": "@jupyter-widgets/base",
            "_model_module_version": "1.2.0",
            "_model_name": "LayoutModel",
            "_view_count": null,
            "_view_module": "@jupyter-widgets/base",
            "_view_module_version": "1.2.0",
            "_view_name": "LayoutView",
            "align_content": null,
            "align_items": null,
            "align_self": null,
            "border": null,
            "bottom": null,
            "display": null,
            "flex": null,
            "flex_flow": null,
            "grid_area": null,
            "grid_auto_columns": null,
            "grid_auto_flow": null,
            "grid_auto_rows": null,
            "grid_column": null,
            "grid_gap": null,
            "grid_row": null,
            "grid_template_areas": null,
            "grid_template_columns": null,
            "grid_template_rows": null,
            "height": null,
            "justify_content": null,
            "justify_items": null,
            "left": null,
            "margin": null,
            "max_height": null,
            "max_width": null,
            "min_height": null,
            "min_width": null,
            "object_fit": null,
            "object_position": null,
            "order": null,
            "overflow": null,
            "overflow_x": null,
            "overflow_y": null,
            "padding": null,
            "right": null,
            "top": null,
            "visibility": null,
            "width": null
          }
        },
        "71a450ce77e041809cdca4b01f375d6f": {
          "model_module": "@jupyter-widgets/controls",
          "model_name": "DescriptionStyleModel",
          "model_module_version": "1.5.0",
          "state": {
            "_model_module": "@jupyter-widgets/controls",
            "_model_module_version": "1.5.0",
            "_model_name": "DescriptionStyleModel",
            "_view_count": null,
            "_view_module": "@jupyter-widgets/base",
            "_view_module_version": "1.2.0",
            "_view_name": "StyleView",
            "description_width": ""
          }
        },
        "156fcaf282a1489ea7eb55d7b4110043": {
          "model_module": "@jupyter-widgets/base",
          "model_name": "LayoutModel",
          "model_module_version": "1.2.0",
          "state": {
            "_model_module": "@jupyter-widgets/base",
            "_model_module_version": "1.2.0",
            "_model_name": "LayoutModel",
            "_view_count": null,
            "_view_module": "@jupyter-widgets/base",
            "_view_module_version": "1.2.0",
            "_view_name": "LayoutView",
            "align_content": null,
            "align_items": null,
            "align_self": null,
            "border": null,
            "bottom": null,
            "display": null,
            "flex": null,
            "flex_flow": null,
            "grid_area": null,
            "grid_auto_columns": null,
            "grid_auto_flow": null,
            "grid_auto_rows": null,
            "grid_column": null,
            "grid_gap": null,
            "grid_row": null,
            "grid_template_areas": null,
            "grid_template_columns": null,
            "grid_template_rows": null,
            "height": null,
            "justify_content": null,
            "justify_items": null,
            "left": null,
            "margin": null,
            "max_height": null,
            "max_width": null,
            "min_height": null,
            "min_width": null,
            "object_fit": null,
            "object_position": null,
            "order": null,
            "overflow": null,
            "overflow_x": null,
            "overflow_y": null,
            "padding": null,
            "right": null,
            "top": null,
            "visibility": null,
            "width": null
          }
        },
        "d93fb349a5704ed9984cc8fbfbbecb67": {
          "model_module": "@jupyter-widgets/controls",
          "model_name": "ProgressStyleModel",
          "model_module_version": "1.5.0",
          "state": {
            "_model_module": "@jupyter-widgets/controls",
            "_model_module_version": "1.5.0",
            "_model_name": "ProgressStyleModel",
            "_view_count": null,
            "_view_module": "@jupyter-widgets/base",
            "_view_module_version": "1.2.0",
            "_view_name": "StyleView",
            "bar_color": null,
            "description_width": ""
          }
        },
        "79691ac550f94550b333c463f1788076": {
          "model_module": "@jupyter-widgets/base",
          "model_name": "LayoutModel",
          "model_module_version": "1.2.0",
          "state": {
            "_model_module": "@jupyter-widgets/base",
            "_model_module_version": "1.2.0",
            "_model_name": "LayoutModel",
            "_view_count": null,
            "_view_module": "@jupyter-widgets/base",
            "_view_module_version": "1.2.0",
            "_view_name": "LayoutView",
            "align_content": null,
            "align_items": null,
            "align_self": null,
            "border": null,
            "bottom": null,
            "display": null,
            "flex": null,
            "flex_flow": null,
            "grid_area": null,
            "grid_auto_columns": null,
            "grid_auto_flow": null,
            "grid_auto_rows": null,
            "grid_column": null,
            "grid_gap": null,
            "grid_row": null,
            "grid_template_areas": null,
            "grid_template_columns": null,
            "grid_template_rows": null,
            "height": null,
            "justify_content": null,
            "justify_items": null,
            "left": null,
            "margin": null,
            "max_height": null,
            "max_width": null,
            "min_height": null,
            "min_width": null,
            "object_fit": null,
            "object_position": null,
            "order": null,
            "overflow": null,
            "overflow_x": null,
            "overflow_y": null,
            "padding": null,
            "right": null,
            "top": null,
            "visibility": null,
            "width": null
          }
        },
        "2450f4e12c6945a5a47360bd26bb0fc6": {
          "model_module": "@jupyter-widgets/controls",
          "model_name": "DescriptionStyleModel",
          "model_module_version": "1.5.0",
          "state": {
            "_model_module": "@jupyter-widgets/controls",
            "_model_module_version": "1.5.0",
            "_model_name": "DescriptionStyleModel",
            "_view_count": null,
            "_view_module": "@jupyter-widgets/base",
            "_view_module_version": "1.2.0",
            "_view_name": "StyleView",
            "description_width": ""
          }
        },
        "7089c7fc233d4b12b5e3a59047711d37": {
          "model_module": "@jupyter-widgets/controls",
          "model_name": "HBoxModel",
          "model_module_version": "1.5.0",
          "state": {
            "_dom_classes": [],
            "_model_module": "@jupyter-widgets/controls",
            "_model_module_version": "1.5.0",
            "_model_name": "HBoxModel",
            "_view_count": null,
            "_view_module": "@jupyter-widgets/controls",
            "_view_module_version": "1.5.0",
            "_view_name": "HBoxView",
            "box_style": "",
            "children": [
              "IPY_MODEL_12ee2a23db1d493fb19d5ae74f70ee2b",
              "IPY_MODEL_e4b7164fe40f4d3f9683150ee424e0cf",
              "IPY_MODEL_9c029fa0f7604db8a33aa9c41cb4300a"
            ],
            "layout": "IPY_MODEL_7e8d6daff20e47d78e14d40e8ae891c2"
          }
        },
        "12ee2a23db1d493fb19d5ae74f70ee2b": {
          "model_module": "@jupyter-widgets/controls",
          "model_name": "HTMLModel",
          "model_module_version": "1.5.0",
          "state": {
            "_dom_classes": [],
            "_model_module": "@jupyter-widgets/controls",
            "_model_module_version": "1.5.0",
            "_model_name": "HTMLModel",
            "_view_count": null,
            "_view_module": "@jupyter-widgets/controls",
            "_view_module_version": "1.5.0",
            "_view_name": "HTMLView",
            "description": "",
            "description_tooltip": null,
            "layout": "IPY_MODEL_79c2b4f804b143e48406bf94f2cfafc7",
            "placeholder": "​",
            "style": "IPY_MODEL_46f4345f20a44fc1be82f910c76f1326",
            "value": "vocab.txt: 100%"
          }
        },
        "e4b7164fe40f4d3f9683150ee424e0cf": {
          "model_module": "@jupyter-widgets/controls",
          "model_name": "FloatProgressModel",
          "model_module_version": "1.5.0",
          "state": {
            "_dom_classes": [],
            "_model_module": "@jupyter-widgets/controls",
            "_model_module_version": "1.5.0",
            "_model_name": "FloatProgressModel",
            "_view_count": null,
            "_view_module": "@jupyter-widgets/controls",
            "_view_module_version": "1.5.0",
            "_view_name": "ProgressView",
            "bar_style": "success",
            "description": "",
            "description_tooltip": null,
            "layout": "IPY_MODEL_50c6464e75254bbdb7f4482fb58a7822",
            "max": 213450,
            "min": 0,
            "orientation": "horizontal",
            "style": "IPY_MODEL_cb93e698ecf147a29927f81c9142335a",
            "value": 213450
          }
        },
        "9c029fa0f7604db8a33aa9c41cb4300a": {
          "model_module": "@jupyter-widgets/controls",
          "model_name": "HTMLModel",
          "model_module_version": "1.5.0",
          "state": {
            "_dom_classes": [],
            "_model_module": "@jupyter-widgets/controls",
            "_model_module_version": "1.5.0",
            "_model_name": "HTMLModel",
            "_view_count": null,
            "_view_module": "@jupyter-widgets/controls",
            "_view_module_version": "1.5.0",
            "_view_name": "HTMLView",
            "description": "",
            "description_tooltip": null,
            "layout": "IPY_MODEL_b4e414f134364116ba9481a2bc1670ed",
            "placeholder": "​",
            "style": "IPY_MODEL_e9802bca61de48f88b662158d1fdd065",
            "value": " 213k/213k [00:00&lt;00:00, 2.89MB/s]"
          }
        },
        "7e8d6daff20e47d78e14d40e8ae891c2": {
          "model_module": "@jupyter-widgets/base",
          "model_name": "LayoutModel",
          "model_module_version": "1.2.0",
          "state": {
            "_model_module": "@jupyter-widgets/base",
            "_model_module_version": "1.2.0",
            "_model_name": "LayoutModel",
            "_view_count": null,
            "_view_module": "@jupyter-widgets/base",
            "_view_module_version": "1.2.0",
            "_view_name": "LayoutView",
            "align_content": null,
            "align_items": null,
            "align_self": null,
            "border": null,
            "bottom": null,
            "display": null,
            "flex": null,
            "flex_flow": null,
            "grid_area": null,
            "grid_auto_columns": null,
            "grid_auto_flow": null,
            "grid_auto_rows": null,
            "grid_column": null,
            "grid_gap": null,
            "grid_row": null,
            "grid_template_areas": null,
            "grid_template_columns": null,
            "grid_template_rows": null,
            "height": null,
            "justify_content": null,
            "justify_items": null,
            "left": null,
            "margin": null,
            "max_height": null,
            "max_width": null,
            "min_height": null,
            "min_width": null,
            "object_fit": null,
            "object_position": null,
            "order": null,
            "overflow": null,
            "overflow_x": null,
            "overflow_y": null,
            "padding": null,
            "right": null,
            "top": null,
            "visibility": null,
            "width": null
          }
        },
        "79c2b4f804b143e48406bf94f2cfafc7": {
          "model_module": "@jupyter-widgets/base",
          "model_name": "LayoutModel",
          "model_module_version": "1.2.0",
          "state": {
            "_model_module": "@jupyter-widgets/base",
            "_model_module_version": "1.2.0",
            "_model_name": "LayoutModel",
            "_view_count": null,
            "_view_module": "@jupyter-widgets/base",
            "_view_module_version": "1.2.0",
            "_view_name": "LayoutView",
            "align_content": null,
            "align_items": null,
            "align_self": null,
            "border": null,
            "bottom": null,
            "display": null,
            "flex": null,
            "flex_flow": null,
            "grid_area": null,
            "grid_auto_columns": null,
            "grid_auto_flow": null,
            "grid_auto_rows": null,
            "grid_column": null,
            "grid_gap": null,
            "grid_row": null,
            "grid_template_areas": null,
            "grid_template_columns": null,
            "grid_template_rows": null,
            "height": null,
            "justify_content": null,
            "justify_items": null,
            "left": null,
            "margin": null,
            "max_height": null,
            "max_width": null,
            "min_height": null,
            "min_width": null,
            "object_fit": null,
            "object_position": null,
            "order": null,
            "overflow": null,
            "overflow_x": null,
            "overflow_y": null,
            "padding": null,
            "right": null,
            "top": null,
            "visibility": null,
            "width": null
          }
        },
        "46f4345f20a44fc1be82f910c76f1326": {
          "model_module": "@jupyter-widgets/controls",
          "model_name": "DescriptionStyleModel",
          "model_module_version": "1.5.0",
          "state": {
            "_model_module": "@jupyter-widgets/controls",
            "_model_module_version": "1.5.0",
            "_model_name": "DescriptionStyleModel",
            "_view_count": null,
            "_view_module": "@jupyter-widgets/base",
            "_view_module_version": "1.2.0",
            "_view_name": "StyleView",
            "description_width": ""
          }
        },
        "50c6464e75254bbdb7f4482fb58a7822": {
          "model_module": "@jupyter-widgets/base",
          "model_name": "LayoutModel",
          "model_module_version": "1.2.0",
          "state": {
            "_model_module": "@jupyter-widgets/base",
            "_model_module_version": "1.2.0",
            "_model_name": "LayoutModel",
            "_view_count": null,
            "_view_module": "@jupyter-widgets/base",
            "_view_module_version": "1.2.0",
            "_view_name": "LayoutView",
            "align_content": null,
            "align_items": null,
            "align_self": null,
            "border": null,
            "bottom": null,
            "display": null,
            "flex": null,
            "flex_flow": null,
            "grid_area": null,
            "grid_auto_columns": null,
            "grid_auto_flow": null,
            "grid_auto_rows": null,
            "grid_column": null,
            "grid_gap": null,
            "grid_row": null,
            "grid_template_areas": null,
            "grid_template_columns": null,
            "grid_template_rows": null,
            "height": null,
            "justify_content": null,
            "justify_items": null,
            "left": null,
            "margin": null,
            "max_height": null,
            "max_width": null,
            "min_height": null,
            "min_width": null,
            "object_fit": null,
            "object_position": null,
            "order": null,
            "overflow": null,
            "overflow_x": null,
            "overflow_y": null,
            "padding": null,
            "right": null,
            "top": null,
            "visibility": null,
            "width": null
          }
        },
        "cb93e698ecf147a29927f81c9142335a": {
          "model_module": "@jupyter-widgets/controls",
          "model_name": "ProgressStyleModel",
          "model_module_version": "1.5.0",
          "state": {
            "_model_module": "@jupyter-widgets/controls",
            "_model_module_version": "1.5.0",
            "_model_name": "ProgressStyleModel",
            "_view_count": null,
            "_view_module": "@jupyter-widgets/base",
            "_view_module_version": "1.2.0",
            "_view_name": "StyleView",
            "bar_color": null,
            "description_width": ""
          }
        },
        "b4e414f134364116ba9481a2bc1670ed": {
          "model_module": "@jupyter-widgets/base",
          "model_name": "LayoutModel",
          "model_module_version": "1.2.0",
          "state": {
            "_model_module": "@jupyter-widgets/base",
            "_model_module_version": "1.2.0",
            "_model_name": "LayoutModel",
            "_view_count": null,
            "_view_module": "@jupyter-widgets/base",
            "_view_module_version": "1.2.0",
            "_view_name": "LayoutView",
            "align_content": null,
            "align_items": null,
            "align_self": null,
            "border": null,
            "bottom": null,
            "display": null,
            "flex": null,
            "flex_flow": null,
            "grid_area": null,
            "grid_auto_columns": null,
            "grid_auto_flow": null,
            "grid_auto_rows": null,
            "grid_column": null,
            "grid_gap": null,
            "grid_row": null,
            "grid_template_areas": null,
            "grid_template_columns": null,
            "grid_template_rows": null,
            "height": null,
            "justify_content": null,
            "justify_items": null,
            "left": null,
            "margin": null,
            "max_height": null,
            "max_width": null,
            "min_height": null,
            "min_width": null,
            "object_fit": null,
            "object_position": null,
            "order": null,
            "overflow": null,
            "overflow_x": null,
            "overflow_y": null,
            "padding": null,
            "right": null,
            "top": null,
            "visibility": null,
            "width": null
          }
        },
        "e9802bca61de48f88b662158d1fdd065": {
          "model_module": "@jupyter-widgets/controls",
          "model_name": "DescriptionStyleModel",
          "model_module_version": "1.5.0",
          "state": {
            "_model_module": "@jupyter-widgets/controls",
            "_model_module_version": "1.5.0",
            "_model_name": "DescriptionStyleModel",
            "_view_count": null,
            "_view_module": "@jupyter-widgets/base",
            "_view_module_version": "1.2.0",
            "_view_name": "StyleView",
            "description_width": ""
          }
        },
        "74329f20b649450a9b95c52fe8da7c8c": {
          "model_module": "@jupyter-widgets/controls",
          "model_name": "HBoxModel",
          "model_module_version": "1.5.0",
          "state": {
            "_dom_classes": [],
            "_model_module": "@jupyter-widgets/controls",
            "_model_module_version": "1.5.0",
            "_model_name": "HBoxModel",
            "_view_count": null,
            "_view_module": "@jupyter-widgets/controls",
            "_view_module_version": "1.5.0",
            "_view_name": "HBoxView",
            "box_style": "",
            "children": [
              "IPY_MODEL_84bd7fcdc78a4a7cbeae0e8824b57217",
              "IPY_MODEL_a2220c42b6744ec2a0668687b624aebc",
              "IPY_MODEL_7e18bcb7cad246b5ad4c1a417064073f"
            ],
            "layout": "IPY_MODEL_d5d8f4a1561d4e1f9d86dc3c76520627"
          }
        },
        "84bd7fcdc78a4a7cbeae0e8824b57217": {
          "model_module": "@jupyter-widgets/controls",
          "model_name": "HTMLModel",
          "model_module_version": "1.5.0",
          "state": {
            "_dom_classes": [],
            "_model_module": "@jupyter-widgets/controls",
            "_model_module_version": "1.5.0",
            "_model_name": "HTMLModel",
            "_view_count": null,
            "_view_module": "@jupyter-widgets/controls",
            "_view_module_version": "1.5.0",
            "_view_name": "HTMLView",
            "description": "",
            "description_tooltip": null,
            "layout": "IPY_MODEL_454d6cb82355432ba6104c3a746bb7ab",
            "placeholder": "​",
            "style": "IPY_MODEL_8dbc477ecd6f47838456f4bab0927585",
            "value": "config.json: 100%"
          }
        },
        "a2220c42b6744ec2a0668687b624aebc": {
          "model_module": "@jupyter-widgets/controls",
          "model_name": "FloatProgressModel",
          "model_module_version": "1.5.0",
          "state": {
            "_dom_classes": [],
            "_model_module": "@jupyter-widgets/controls",
            "_model_module_version": "1.5.0",
            "_model_name": "FloatProgressModel",
            "_view_count": null,
            "_view_module": "@jupyter-widgets/controls",
            "_view_module_version": "1.5.0",
            "_view_name": "ProgressView",
            "bar_style": "success",
            "description": "",
            "description_tooltip": null,
            "layout": "IPY_MODEL_cb295e433fd64f0eaad17101805783d2",
            "max": 998,
            "min": 0,
            "orientation": "horizontal",
            "style": "IPY_MODEL_d56e0d39f2a84a819fb9b8ffbbc72734",
            "value": 998
          }
        },
        "7e18bcb7cad246b5ad4c1a417064073f": {
          "model_module": "@jupyter-widgets/controls",
          "model_name": "HTMLModel",
          "model_module_version": "1.5.0",
          "state": {
            "_dom_classes": [],
            "_model_module": "@jupyter-widgets/controls",
            "_model_module_version": "1.5.0",
            "_model_name": "HTMLModel",
            "_view_count": null,
            "_view_module": "@jupyter-widgets/controls",
            "_view_module_version": "1.5.0",
            "_view_name": "HTMLView",
            "description": "",
            "description_tooltip": null,
            "layout": "IPY_MODEL_ac1ee14ea766490c9073b69f46ce3fd2",
            "placeholder": "​",
            "style": "IPY_MODEL_91eac28961144d2184199848f1427ac3",
            "value": " 998/998 [00:00&lt;00:00, 18.2kB/s]"
          }
        },
        "d5d8f4a1561d4e1f9d86dc3c76520627": {
          "model_module": "@jupyter-widgets/base",
          "model_name": "LayoutModel",
          "model_module_version": "1.2.0",
          "state": {
            "_model_module": "@jupyter-widgets/base",
            "_model_module_version": "1.2.0",
            "_model_name": "LayoutModel",
            "_view_count": null,
            "_view_module": "@jupyter-widgets/base",
            "_view_module_version": "1.2.0",
            "_view_name": "LayoutView",
            "align_content": null,
            "align_items": null,
            "align_self": null,
            "border": null,
            "bottom": null,
            "display": null,
            "flex": null,
            "flex_flow": null,
            "grid_area": null,
            "grid_auto_columns": null,
            "grid_auto_flow": null,
            "grid_auto_rows": null,
            "grid_column": null,
            "grid_gap": null,
            "grid_row": null,
            "grid_template_areas": null,
            "grid_template_columns": null,
            "grid_template_rows": null,
            "height": null,
            "justify_content": null,
            "justify_items": null,
            "left": null,
            "margin": null,
            "max_height": null,
            "max_width": null,
            "min_height": null,
            "min_width": null,
            "object_fit": null,
            "object_position": null,
            "order": null,
            "overflow": null,
            "overflow_x": null,
            "overflow_y": null,
            "padding": null,
            "right": null,
            "top": null,
            "visibility": null,
            "width": null
          }
        },
        "454d6cb82355432ba6104c3a746bb7ab": {
          "model_module": "@jupyter-widgets/base",
          "model_name": "LayoutModel",
          "model_module_version": "1.2.0",
          "state": {
            "_model_module": "@jupyter-widgets/base",
            "_model_module_version": "1.2.0",
            "_model_name": "LayoutModel",
            "_view_count": null,
            "_view_module": "@jupyter-widgets/base",
            "_view_module_version": "1.2.0",
            "_view_name": "LayoutView",
            "align_content": null,
            "align_items": null,
            "align_self": null,
            "border": null,
            "bottom": null,
            "display": null,
            "flex": null,
            "flex_flow": null,
            "grid_area": null,
            "grid_auto_columns": null,
            "grid_auto_flow": null,
            "grid_auto_rows": null,
            "grid_column": null,
            "grid_gap": null,
            "grid_row": null,
            "grid_template_areas": null,
            "grid_template_columns": null,
            "grid_template_rows": null,
            "height": null,
            "justify_content": null,
            "justify_items": null,
            "left": null,
            "margin": null,
            "max_height": null,
            "max_width": null,
            "min_height": null,
            "min_width": null,
            "object_fit": null,
            "object_position": null,
            "order": null,
            "overflow": null,
            "overflow_x": null,
            "overflow_y": null,
            "padding": null,
            "right": null,
            "top": null,
            "visibility": null,
            "width": null
          }
        },
        "8dbc477ecd6f47838456f4bab0927585": {
          "model_module": "@jupyter-widgets/controls",
          "model_name": "DescriptionStyleModel",
          "model_module_version": "1.5.0",
          "state": {
            "_model_module": "@jupyter-widgets/controls",
            "_model_module_version": "1.5.0",
            "_model_name": "DescriptionStyleModel",
            "_view_count": null,
            "_view_module": "@jupyter-widgets/base",
            "_view_module_version": "1.2.0",
            "_view_name": "StyleView",
            "description_width": ""
          }
        },
        "cb295e433fd64f0eaad17101805783d2": {
          "model_module": "@jupyter-widgets/base",
          "model_name": "LayoutModel",
          "model_module_version": "1.2.0",
          "state": {
            "_model_module": "@jupyter-widgets/base",
            "_model_module_version": "1.2.0",
            "_model_name": "LayoutModel",
            "_view_count": null,
            "_view_module": "@jupyter-widgets/base",
            "_view_module_version": "1.2.0",
            "_view_name": "LayoutView",
            "align_content": null,
            "align_items": null,
            "align_self": null,
            "border": null,
            "bottom": null,
            "display": null,
            "flex": null,
            "flex_flow": null,
            "grid_area": null,
            "grid_auto_columns": null,
            "grid_auto_flow": null,
            "grid_auto_rows": null,
            "grid_column": null,
            "grid_gap": null,
            "grid_row": null,
            "grid_template_areas": null,
            "grid_template_columns": null,
            "grid_template_rows": null,
            "height": null,
            "justify_content": null,
            "justify_items": null,
            "left": null,
            "margin": null,
            "max_height": null,
            "max_width": null,
            "min_height": null,
            "min_width": null,
            "object_fit": null,
            "object_position": null,
            "order": null,
            "overflow": null,
            "overflow_x": null,
            "overflow_y": null,
            "padding": null,
            "right": null,
            "top": null,
            "visibility": null,
            "width": null
          }
        },
        "d56e0d39f2a84a819fb9b8ffbbc72734": {
          "model_module": "@jupyter-widgets/controls",
          "model_name": "ProgressStyleModel",
          "model_module_version": "1.5.0",
          "state": {
            "_model_module": "@jupyter-widgets/controls",
            "_model_module_version": "1.5.0",
            "_model_name": "ProgressStyleModel",
            "_view_count": null,
            "_view_module": "@jupyter-widgets/base",
            "_view_module_version": "1.2.0",
            "_view_name": "StyleView",
            "bar_color": null,
            "description_width": ""
          }
        },
        "ac1ee14ea766490c9073b69f46ce3fd2": {
          "model_module": "@jupyter-widgets/base",
          "model_name": "LayoutModel",
          "model_module_version": "1.2.0",
          "state": {
            "_model_module": "@jupyter-widgets/base",
            "_model_module_version": "1.2.0",
            "_model_name": "LayoutModel",
            "_view_count": null,
            "_view_module": "@jupyter-widgets/base",
            "_view_module_version": "1.2.0",
            "_view_name": "LayoutView",
            "align_content": null,
            "align_items": null,
            "align_self": null,
            "border": null,
            "bottom": null,
            "display": null,
            "flex": null,
            "flex_flow": null,
            "grid_area": null,
            "grid_auto_columns": null,
            "grid_auto_flow": null,
            "grid_auto_rows": null,
            "grid_column": null,
            "grid_gap": null,
            "grid_row": null,
            "grid_template_areas": null,
            "grid_template_columns": null,
            "grid_template_rows": null,
            "height": null,
            "justify_content": null,
            "justify_items": null,
            "left": null,
            "margin": null,
            "max_height": null,
            "max_width": null,
            "min_height": null,
            "min_width": null,
            "object_fit": null,
            "object_position": null,
            "order": null,
            "overflow": null,
            "overflow_x": null,
            "overflow_y": null,
            "padding": null,
            "right": null,
            "top": null,
            "visibility": null,
            "width": null
          }
        },
        "91eac28961144d2184199848f1427ac3": {
          "model_module": "@jupyter-widgets/controls",
          "model_name": "DescriptionStyleModel",
          "model_module_version": "1.5.0",
          "state": {
            "_model_module": "@jupyter-widgets/controls",
            "_model_module_version": "1.5.0",
            "_model_name": "DescriptionStyleModel",
            "_view_count": null,
            "_view_module": "@jupyter-widgets/base",
            "_view_module_version": "1.2.0",
            "_view_name": "StyleView",
            "description_width": ""
          }
        },
        "89223bbcf74b4a34b2da1f3858071234": {
          "model_module": "@jupyter-widgets/controls",
          "model_name": "HBoxModel",
          "model_module_version": "1.5.0",
          "state": {
            "_dom_classes": [],
            "_model_module": "@jupyter-widgets/controls",
            "_model_module_version": "1.5.0",
            "_model_name": "HBoxModel",
            "_view_count": null,
            "_view_module": "@jupyter-widgets/controls",
            "_view_module_version": "1.5.0",
            "_view_name": "HBoxView",
            "box_style": "",
            "children": [
              "IPY_MODEL_aec38a5f9a2b4c6fb29233f5665a122b",
              "IPY_MODEL_e61564eada2e4712a1db8688aca8d775",
              "IPY_MODEL_c16d532a60934f08a5f63805b07d7b1e"
            ],
            "layout": "IPY_MODEL_c72b37873cfa4e0a8d3695d9363f51af"
          }
        },
        "aec38a5f9a2b4c6fb29233f5665a122b": {
          "model_module": "@jupyter-widgets/controls",
          "model_name": "HTMLModel",
          "model_module_version": "1.5.0",
          "state": {
            "_dom_classes": [],
            "_model_module": "@jupyter-widgets/controls",
            "_model_module_version": "1.5.0",
            "_model_name": "HTMLModel",
            "_view_count": null,
            "_view_module": "@jupyter-widgets/controls",
            "_view_module_version": "1.5.0",
            "_view_name": "HTMLView",
            "description": "",
            "description_tooltip": null,
            "layout": "IPY_MODEL_309049cac07a42e3b48b236ac3ceb876",
            "placeholder": "​",
            "style": "IPY_MODEL_f5fbd5c56d264a9f9985385f4d6971c2",
            "value": "model.safetensors: 100%"
          }
        },
        "e61564eada2e4712a1db8688aca8d775": {
          "model_module": "@jupyter-widgets/controls",
          "model_name": "FloatProgressModel",
          "model_module_version": "1.5.0",
          "state": {
            "_dom_classes": [],
            "_model_module": "@jupyter-widgets/controls",
            "_model_module_version": "1.5.0",
            "_model_name": "FloatProgressModel",
            "_view_count": null,
            "_view_module": "@jupyter-widgets/controls",
            "_view_module_version": "1.5.0",
            "_view_name": "ProgressView",
            "bar_style": "success",
            "description": "",
            "description_tooltip": null,
            "layout": "IPY_MODEL_1548caf4b97746cd8040c373780ba620",
            "max": 1334400964,
            "min": 0,
            "orientation": "horizontal",
            "style": "IPY_MODEL_e4f34f055a014967a8be0daedda7510d",
            "value": 1334400964
          }
        },
        "c16d532a60934f08a5f63805b07d7b1e": {
          "model_module": "@jupyter-widgets/controls",
          "model_name": "HTMLModel",
          "model_module_version": "1.5.0",
          "state": {
            "_dom_classes": [],
            "_model_module": "@jupyter-widgets/controls",
            "_model_module_version": "1.5.0",
            "_model_name": "HTMLModel",
            "_view_count": null,
            "_view_module": "@jupyter-widgets/controls",
            "_view_module_version": "1.5.0",
            "_view_name": "HTMLView",
            "description": "",
            "description_tooltip": null,
            "layout": "IPY_MODEL_e9a557a085c94bcdac718d86cde8d6d5",
            "placeholder": "​",
            "style": "IPY_MODEL_9f3edbff3a98436ea1e42a6f70b99af0",
            "value": " 1.33G/1.33G [00:17&lt;00:00, 84.0MB/s]"
          }
        },
        "c72b37873cfa4e0a8d3695d9363f51af": {
          "model_module": "@jupyter-widgets/base",
          "model_name": "LayoutModel",
          "model_module_version": "1.2.0",
          "state": {
            "_model_module": "@jupyter-widgets/base",
            "_model_module_version": "1.2.0",
            "_model_name": "LayoutModel",
            "_view_count": null,
            "_view_module": "@jupyter-widgets/base",
            "_view_module_version": "1.2.0",
            "_view_name": "LayoutView",
            "align_content": null,
            "align_items": null,
            "align_self": null,
            "border": null,
            "bottom": null,
            "display": null,
            "flex": null,
            "flex_flow": null,
            "grid_area": null,
            "grid_auto_columns": null,
            "grid_auto_flow": null,
            "grid_auto_rows": null,
            "grid_column": null,
            "grid_gap": null,
            "grid_row": null,
            "grid_template_areas": null,
            "grid_template_columns": null,
            "grid_template_rows": null,
            "height": null,
            "justify_content": null,
            "justify_items": null,
            "left": null,
            "margin": null,
            "max_height": null,
            "max_width": null,
            "min_height": null,
            "min_width": null,
            "object_fit": null,
            "object_position": null,
            "order": null,
            "overflow": null,
            "overflow_x": null,
            "overflow_y": null,
            "padding": null,
            "right": null,
            "top": null,
            "visibility": null,
            "width": null
          }
        },
        "309049cac07a42e3b48b236ac3ceb876": {
          "model_module": "@jupyter-widgets/base",
          "model_name": "LayoutModel",
          "model_module_version": "1.2.0",
          "state": {
            "_model_module": "@jupyter-widgets/base",
            "_model_module_version": "1.2.0",
            "_model_name": "LayoutModel",
            "_view_count": null,
            "_view_module": "@jupyter-widgets/base",
            "_view_module_version": "1.2.0",
            "_view_name": "LayoutView",
            "align_content": null,
            "align_items": null,
            "align_self": null,
            "border": null,
            "bottom": null,
            "display": null,
            "flex": null,
            "flex_flow": null,
            "grid_area": null,
            "grid_auto_columns": null,
            "grid_auto_flow": null,
            "grid_auto_rows": null,
            "grid_column": null,
            "grid_gap": null,
            "grid_row": null,
            "grid_template_areas": null,
            "grid_template_columns": null,
            "grid_template_rows": null,
            "height": null,
            "justify_content": null,
            "justify_items": null,
            "left": null,
            "margin": null,
            "max_height": null,
            "max_width": null,
            "min_height": null,
            "min_width": null,
            "object_fit": null,
            "object_position": null,
            "order": null,
            "overflow": null,
            "overflow_x": null,
            "overflow_y": null,
            "padding": null,
            "right": null,
            "top": null,
            "visibility": null,
            "width": null
          }
        },
        "f5fbd5c56d264a9f9985385f4d6971c2": {
          "model_module": "@jupyter-widgets/controls",
          "model_name": "DescriptionStyleModel",
          "model_module_version": "1.5.0",
          "state": {
            "_model_module": "@jupyter-widgets/controls",
            "_model_module_version": "1.5.0",
            "_model_name": "DescriptionStyleModel",
            "_view_count": null,
            "_view_module": "@jupyter-widgets/base",
            "_view_module_version": "1.2.0",
            "_view_name": "StyleView",
            "description_width": ""
          }
        },
        "1548caf4b97746cd8040c373780ba620": {
          "model_module": "@jupyter-widgets/base",
          "model_name": "LayoutModel",
          "model_module_version": "1.2.0",
          "state": {
            "_model_module": "@jupyter-widgets/base",
            "_model_module_version": "1.2.0",
            "_model_name": "LayoutModel",
            "_view_count": null,
            "_view_module": "@jupyter-widgets/base",
            "_view_module_version": "1.2.0",
            "_view_name": "LayoutView",
            "align_content": null,
            "align_items": null,
            "align_self": null,
            "border": null,
            "bottom": null,
            "display": null,
            "flex": null,
            "flex_flow": null,
            "grid_area": null,
            "grid_auto_columns": null,
            "grid_auto_flow": null,
            "grid_auto_rows": null,
            "grid_column": null,
            "grid_gap": null,
            "grid_row": null,
            "grid_template_areas": null,
            "grid_template_columns": null,
            "grid_template_rows": null,
            "height": null,
            "justify_content": null,
            "justify_items": null,
            "left": null,
            "margin": null,
            "max_height": null,
            "max_width": null,
            "min_height": null,
            "min_width": null,
            "object_fit": null,
            "object_position": null,
            "order": null,
            "overflow": null,
            "overflow_x": null,
            "overflow_y": null,
            "padding": null,
            "right": null,
            "top": null,
            "visibility": null,
            "width": null
          }
        },
        "e4f34f055a014967a8be0daedda7510d": {
          "model_module": "@jupyter-widgets/controls",
          "model_name": "ProgressStyleModel",
          "model_module_version": "1.5.0",
          "state": {
            "_model_module": "@jupyter-widgets/controls",
            "_model_module_version": "1.5.0",
            "_model_name": "ProgressStyleModel",
            "_view_count": null,
            "_view_module": "@jupyter-widgets/base",
            "_view_module_version": "1.2.0",
            "_view_name": "StyleView",
            "bar_color": null,
            "description_width": ""
          }
        },
        "e9a557a085c94bcdac718d86cde8d6d5": {
          "model_module": "@jupyter-widgets/base",
          "model_name": "LayoutModel",
          "model_module_version": "1.2.0",
          "state": {
            "_model_module": "@jupyter-widgets/base",
            "_model_module_version": "1.2.0",
            "_model_name": "LayoutModel",
            "_view_count": null,
            "_view_module": "@jupyter-widgets/base",
            "_view_module_version": "1.2.0",
            "_view_name": "LayoutView",
            "align_content": null,
            "align_items": null,
            "align_self": null,
            "border": null,
            "bottom": null,
            "display": null,
            "flex": null,
            "flex_flow": null,
            "grid_area": null,
            "grid_auto_columns": null,
            "grid_auto_flow": null,
            "grid_auto_rows": null,
            "grid_column": null,
            "grid_gap": null,
            "grid_row": null,
            "grid_template_areas": null,
            "grid_template_columns": null,
            "grid_template_rows": null,
            "height": null,
            "justify_content": null,
            "justify_items": null,
            "left": null,
            "margin": null,
            "max_height": null,
            "max_width": null,
            "min_height": null,
            "min_width": null,
            "object_fit": null,
            "object_position": null,
            "order": null,
            "overflow": null,
            "overflow_x": null,
            "overflow_y": null,
            "padding": null,
            "right": null,
            "top": null,
            "visibility": null,
            "width": null
          }
        },
        "9f3edbff3a98436ea1e42a6f70b99af0": {
          "model_module": "@jupyter-widgets/controls",
          "model_name": "DescriptionStyleModel",
          "model_module_version": "1.5.0",
          "state": {
            "_model_module": "@jupyter-widgets/controls",
            "_model_module_version": "1.5.0",
            "_model_name": "DescriptionStyleModel",
            "_view_count": null,
            "_view_module": "@jupyter-widgets/base",
            "_view_module_version": "1.2.0",
            "_view_name": "StyleView",
            "description_width": ""
          }
        }
      }
    }
  },
  "cells": [
    {
      "cell_type": "code",
      "execution_count": null,
      "metadata": {
        "id": "lBjlB65JajM2"
      },
      "outputs": [],
      "source": []
    },
    {
      "cell_type": "markdown",
      "source": [
        "## different tokenizers"
      ],
      "metadata": {
        "id": "91D-xZPBderc"
      }
    },
    {
      "cell_type": "code",
      "source": [
        "import re\n",
        "import nltk\n",
        "import spacy\n",
        "\n",
        "# Download necessary NLTK data\n",
        "nltk.download('punkt')\n",
        "\n",
        "# Load SpaCy model\n",
        "nlp = spacy.load('en_core_web_sm')\n",
        "\n",
        "# Sample text\n",
        "text = \"Hello, world! This is a test sentence. Let's see how different tokenizers handle it.\"\n",
        "\n",
        "# Whitespace Tokenizer\n",
        "def whitespace_tokenizer(text):\n",
        "    return text.split()\n",
        "\n",
        "# Punctuation-based Tokenizer\n",
        "def punctuation_tokenizer(text):\n",
        "    return re.findall(r'\\w+|[^\\w\\s]', text, re.UNICODE)\n",
        "\n",
        "# NLTK Tokenizer\n",
        "def nltk_tokenizer(text):\n",
        "    return nltk.word_tokenize(text)\n",
        "\n",
        "# SpaCy Tokenizer\n",
        "def spacy_tokenizer(text):\n",
        "    doc = nlp(text)\n",
        "    return [token.text for token in doc]\n",
        "\n",
        "# Comparing Tokenizers\n",
        "tokenizers = {\n",
        "    \"Whitespace Tokenizer\": whitespace_tokenizer,\n",
        "    \"Punctuation Tokenizer\": punctuation_tokenizer,\n",
        "    \"NLTK Tokenizer\": nltk_tokenizer,\n",
        "    \"SpaCy Tokenizer\": spacy_tokenizer\n",
        "}\n",
        "\n",
        "# Apply each tokenizer to the sample text\n",
        "tokenized_texts = {name: tokenizer(text) for name, tokenizer in tokenizers.items()}\n",
        "\n",
        "# Display the results\n",
        "for name, tokens in tokenized_texts.items():\n",
        "    print(f\"{name}:\\n{tokens}\\n\")"
      ],
      "metadata": {
        "colab": {
          "base_uri": "https://localhost:8080/"
        },
        "id": "vJ9cEPxAdCSE",
        "outputId": "642032af-3262-41a9-f889-c45447e97153"
      },
      "execution_count": null,
      "outputs": [
        {
          "output_type": "stream",
          "name": "stderr",
          "text": [
            "[nltk_data] Downloading package punkt to /root/nltk_data...\n",
            "[nltk_data]   Unzipping tokenizers/punkt.zip.\n"
          ]
        },
        {
          "output_type": "stream",
          "name": "stdout",
          "text": [
            "Whitespace Tokenizer:\n",
            "['Hello,', 'world!', 'This', 'is', 'a', 'test', 'sentence.', \"Let's\", 'see', 'how', 'different', 'tokenizers', 'handle', 'it.']\n",
            "\n",
            "Punctuation Tokenizer:\n",
            "['Hello', ',', 'world', '!', 'This', 'is', 'a', 'test', 'sentence', '.', 'Let', \"'\", 's', 'see', 'how', 'different', 'tokenizers', 'handle', 'it', '.']\n",
            "\n",
            "NLTK Tokenizer:\n",
            "['Hello', ',', 'world', '!', 'This', 'is', 'a', 'test', 'sentence', '.', 'Let', \"'s\", 'see', 'how', 'different', 'tokenizers', 'handle', 'it', '.']\n",
            "\n",
            "SpaCy Tokenizer:\n",
            "['Hello', ',', 'world', '!', 'This', 'is', 'a', 'test', 'sentence', '.', 'Let', \"'s\", 'see', 'how', 'different', 'tokenizers', 'handle', 'it', '.']\n",
            "\n"
          ]
        }
      ]
    },
    {
      "cell_type": "markdown",
      "source": [
        "## Word and Subword Tokenization\n",
        "\n",
        "BPE Tokenizer: This tokenizer uses Byte Pair Encoding, which merges the most frequent pairs of bytes in the text iteratively. It's effective for subword tokenization and handles out-of-vocabulary words by breaking them into subwords.\n",
        "\n",
        "WordPiece Tokenizer: This tokenizer uses a similar approach to BPE but is optimized for handling word pieces, especially useful in models like BERT. It breaks down words into the most frequent subword units."
      ],
      "metadata": {
        "id": "OHFOz_vVddjO"
      }
    },
    {
      "cell_type": "code",
      "source": [
        "from tokenizers import Tokenizer\n",
        "from tokenizers.models import BPE, WordPiece\n",
        "from tokenizers.trainers import BpeTrainer, WordPieceTrainer\n",
        "from tokenizers.pre_tokenizers import Whitespace\n",
        "from tokenizers.processors import TemplateProcessing\n",
        "\n",
        "# Sample text\n",
        "texts = [\n",
        "    \"Hello, world! This is a test sentence.\",\n",
        "    \"Let's see how different tokenizers handle out-of-vocabulary words like spacy, tensorflow, and huggingface.\"\n",
        "]\n",
        "\n",
        "# Initialize BPE Tokenizer\n",
        "bpe_tokenizer = Tokenizer(BPE())\n",
        "bpe_tokenizer.pre_tokenizer = Whitespace()\n",
        "bpe_trainer = BpeTrainer(vocab_size=1000, min_frequency=2)\n",
        "bpe_tokenizer.train_from_iterator(texts, trainer=bpe_trainer)\n",
        "\n",
        "# Initialize WordPiece Tokenizer\n",
        "wordpiece_tokenizer = Tokenizer(WordPiece())\n",
        "wordpiece_tokenizer.pre_tokenizer = Whitespace()\n",
        "wordpiece_trainer = WordPieceTrainer(vocab_size=1000, min_frequency=2)\n",
        "wordpiece_tokenizer.train_from_iterator(texts, trainer=wordpiece_trainer)\n",
        "\n",
        "# Function to display tokenized results\n",
        "def display_tokenization_results(tokenizer, texts):\n",
        "    for i, text in enumerate(texts):\n",
        "        tokens = tokenizer.encode(text).tokens\n",
        "        print(f\"Text {i+1}: {text}\")\n",
        "        print(f\"Tokens: {tokens}\\n\")\n",
        "\n",
        "# Display BPE Tokenization Results\n",
        "print(\"BPE Tokenization Results:\")\n",
        "display_tokenization_results(bpe_tokenizer, texts)\n",
        "\n",
        "# Display WordPiece Tokenization Results\n",
        "print(\"WordPiece Tokenization Results:\")\n",
        "display_tokenization_results(wordpiece_tokenizer, texts)\n"
      ],
      "metadata": {
        "colab": {
          "base_uri": "https://localhost:8080/"
        },
        "id": "0C-ZzKejdCl5",
        "outputId": "927fd86e-a7ca-4a81-9182-e26d0bd6d01c"
      },
      "execution_count": null,
      "outputs": [
        {
          "output_type": "stream",
          "name": "stdout",
          "text": [
            "BPE Tokenization Results:\n",
            "Text 1: Hello, world! This is a test sentence.\n",
            "Tokens: ['H', 'e', 'l', 'lo', ',', 'wor', 'l', 'd', '!', 'T', 'h', 'is', 'is', 'a', 't', 'e', 's', 't', 's', 'en', 'ten', 'c', 'e', '.']\n",
            "\n",
            "Text 2: Let's see how different tokenizers handle out-of-vocabulary words like spacy, tensorflow, and huggingface.\n",
            "Tokens: ['L', 'e', 't', \"'\", 's', 's', 'e', 'e', 'h', 'o', 'w', 'd', 'i', 'f', 'f', 'er', 'en', 't', 't', 'o', 'k', 'en', 'i', 'z', 'er', 's', 'h', 'and', 'l', 'e', 'o', 'u', 't', '-', 'o', 'f', '-', 'v', 'o', 'c', 'a', 'b', 'u', 'l', 'a', 'r', 'y', 'wor', 'd', 's', 'l', 'i', 'k', 'e', 's', 'p', 'ac', 'y', ',', 'ten', 's', 'or', 'f', 'lo', 'w', ',', 'and', 'h', 'u', 'g', 'g', 'i', 'n', 'g', 'f', 'ac', 'e', '.']\n",
            "\n",
            "WordPiece Tokenization Results:\n",
            "Text 1: Hello, world! This is a test sentence.\n",
            "Tokens: ['H', '##e', '##l', '##l', '##o', ',', 'wor', '##l', '##d', '!', 'T', '##h', '##i', '##s', 'i', '##s', 'a', 't', '##e', '##s', '##t', 's', '##ent', '##en', '##c', '##e', '.']\n",
            "\n",
            "Text 2: Let's see how different tokenizers handle out-of-vocabulary words like spacy, tensorflow, and huggingface.\n",
            "Tokens: ['L', '##e', '##t', \"'\", 's', 's', '##e', '##e', 'h', '##ow', 'd', '##i', '##f', '##f', '##er', '##ent', 't', '##o', '##k', '##en', '##i', '##z', '##er', '##s', 'h', '##a', '##nd', '##l', '##e', 'o', '##u', '##t', '-', 'o', '##f', '-', 'v', '##o', '##c', '##a', '##b', '##u', '##l', '##a', '##r', '##y', 'wor', '##d', '##s', 'l', '##i', '##k', '##e', 's', '##p', '##ac', '##y', ',', 't', '##en', '##s', '##or', '##f', '##l', '##ow', ',', 'a', '##nd', 'h', '##u', '##g', '##g', '##i', '##n', '##g', '##f', '##ac', '##e', '.']\n",
            "\n"
          ]
        }
      ]
    },
    {
      "cell_type": "markdown",
      "source": [
        "## Multilingual Tokenizer"
      ],
      "metadata": {
        "id": "GrJ8VUaxeCTe"
      }
    },
    {
      "cell_type": "code",
      "source": [
        "from tokenizers import Tokenizer\n",
        "from tokenizers.models import WordPiece\n",
        "from tokenizers.trainers import WordPieceTrainer\n",
        "from tokenizers.pre_tokenizers import Whitespace\n",
        "\n",
        "# Sample texts in different languages\n",
        "texts = [\n",
        "    \"Hello, world! This is a test sentence.\",\n",
        "    \"Hola, mundo! Esta es una frase de prueba.\",\n",
        "    \"Bonjour le monde! Ceci est une phrase de test.\",\n",
        "    \"你好，世界！这是一个测试句子。\",\n",
        "    \"こんにちは、世界！これはテスト文です。\",\n",
        "    \"안녕하세요, 세계! 이것은 테스트 문장입니다.\"\n",
        "]\n",
        "\n",
        "# Initialize WordPiece Tokenizer\n",
        "tokenizer = Tokenizer(WordPiece())\n",
        "tokenizer.pre_tokenizer = Whitespace()\n",
        "\n",
        "# Train the tokenizer on multilingual text\n",
        "trainer = WordPieceTrainer(vocab_size=1000, min_frequency=2)\n",
        "tokenizer.train_from_iterator(texts, trainer=trainer)\n",
        "\n",
        "# Function to display tokenized results\n",
        "def display_tokenization_results(tokenizer, texts):\n",
        "    for i, text in enumerate(texts):\n",
        "        tokens = tokenizer.encode(text).tokens\n",
        "        print(f\"Text {i+1}: {text}\")\n",
        "        print(f\"Tokens: {tokens}\\n\")\n",
        "\n",
        "# Display Tokenization Results\n",
        "print(\"Multilingual Tokenization Results:\")\n",
        "display_tokenization_results(tokenizer, texts)\n"
      ],
      "metadata": {
        "colab": {
          "base_uri": "https://localhost:8080/"
        },
        "id": "coJ5wCTxeB6c",
        "outputId": "053da0de-79cc-43cf-f7a5-a501cae6001c"
      },
      "execution_count": null,
      "outputs": [
        {
          "output_type": "stream",
          "name": "stdout",
          "text": [
            "Multilingual Tokenization Results:\n",
            "Text 1: Hello, world! This is a test sentence.\n",
            "Tokens: ['H', '##e', '##l', '##l', '##o', ',', 'w', '##o', '##r', '##l', '##d', '!', 'T', '##h', '##i', '##s', 'i', '##s', 'a', 'test', 's', '##en', '##t', '##en', '##c', '##e', '.']\n",
            "\n",
            "Text 2: Hola, mundo! Esta es una frase de prueba.\n",
            "Tokens: ['H', '##o', '##l', '##a', ',', 'm', '##u', '##nd', '##o', '!', 'E', '##st', '##a', 'e', '##s', 'un', '##a', 'f', '##rase', 'de', 'p', '##r', '##u', '##e', '##b', '##a', '.']\n",
            "\n",
            "Text 3: Bonjour le monde! Ceci est une phrase de test.\n",
            "Tokens: ['B', '##o', '##n', '##j', '##o', '##u', '##r', 'l', '##e', 'm', '##o', '##nd', '##e', '!', 'C', '##e', '##c', '##i', 'e', '##st', 'un', '##e', 'p', '##h', '##rase', 'de', 'test', '.']\n",
            "\n",
            "Text 4: 你好，世界！这是一个测试句子。\n",
            "Tokens: ['你', '##好', '，', '世界', '！', '这', '##是', '##一', '##个', '##测', '##试', '##句', '##子', '。']\n",
            "\n",
            "Text 5: こんにちは、世界！これはテスト文です。\n",
            "Tokens: ['こ', '##ん', '##に', '##ち', '##は', '、', '世界', '！', 'こ', '##れ', '##は', '##テ', '##ス', '##ト', '##文', '##で', '##す', '。']\n",
            "\n",
            "Text 6: 안녕하세요, 세계! 이것은 테스트 문장입니다.\n",
            "Tokens: ['안', '##녕', '##하', '##세', '##요', ',', '세', '##계', '!', '이', '##것', '##은', '테', '##스', '##트', '문', '##장', '##입', '##니', '##다', '.']\n",
            "\n"
          ]
        }
      ]
    },
    {
      "cell_type": "markdown",
      "source": [
        "## Tokenization and NER"
      ],
      "metadata": {
        "id": "W7qQVA-qeMGz"
      }
    },
    {
      "cell_type": "code",
      "source": [
        "import torch\n",
        "from transformers import BertTokenizer, BertForTokenClassification, pipeline\n",
        "import spacy\n",
        "import nltk\n",
        "import re\n",
        "\n",
        "# Load NER model and tokenizer from Hugging Face\n",
        "model_name = \"dbmdz/bert-large-cased-finetuned-conll03-english\"\n",
        "tokenizer = BertTokenizer.from_pretrained(model_name)\n",
        "model = BertForTokenClassification.from_pretrained(model_name)\n",
        "ner_pipeline = pipeline(\"ner\", model=model, tokenizer=tokenizer)\n",
        "\n",
        "# Load SpaCy model\n",
        "spacy_nlp = spacy.load(\"en_core_web_sm\")\n",
        "\n",
        "# Sample text\n",
        "text = \"Elon Musk is the CEO of SpaceX, and he lives in Texas.\"\n",
        "\n",
        "# Tokenizers\n",
        "def whitespace_tokenizer(text):\n",
        "    return text.split()\n",
        "\n",
        "def punctuation_tokenizer(text):\n",
        "    return re.findall(r'\\w+|[^\\w\\s]', text, re.UNICODE)\n",
        "\n",
        "def nltk_tokenizer(text):\n",
        "    return nltk.word_tokenize(text)\n",
        "\n",
        "def spacy_tokenizer(text):\n",
        "    doc = spacy_nlp(text)\n",
        "    return [token.text for token in doc]\n",
        "\n",
        "# Function to run NER\n",
        "def run_ner(text):\n",
        "    ner_results = ner_pipeline(text)\n",
        "    return [(result['word'], result['entity']) for result in ner_results]\n",
        "\n",
        "# Function to tokenize and run NER\n",
        "def tokenize_and_ner(tokenizer_func, text):\n",
        "    tokens = tokenizer_func(text)\n",
        "    tokenized_text = ' '.join(tokens)\n",
        "    print(f\"Tokenized Text: {tokenized_text}\")\n",
        "    ner_results = run_ner(tokenized_text)\n",
        "    return ner_results\n",
        "\n",
        "# Apply tokenizers and run NER\n",
        "print(\"Whitespace Tokenizer NER Results:\")\n",
        "print(tokenize_and_ner(whitespace_tokenizer, text))\n",
        "\n",
        "print(\"\\nPunctuation Tokenizer NER Results:\")\n",
        "print(tokenize_and_ner(punctuation_tokenizer, text))\n",
        "\n",
        "print(\"\\nNLTK Tokenizer NER Results:\")\n",
        "print(tokenize_and_ner(nltk_tokenizer, text))\n",
        "\n",
        "print(\"\\nSpaCy Tokenizer NER Results:\")\n",
        "print(tokenize_and_ner(spacy_tokenizer, text))\n"
      ],
      "metadata": {
        "colab": {
          "base_uri": "https://localhost:8080/",
          "height": 582,
          "referenced_widgets": [
            "63015017653742b69494245a37869635",
            "4d48b2ae05d8437490c2fc00cf3edaff",
            "9f320b8c14f84796b1072b5926e0ec09",
            "e918d4a696dc485aacba5fd77e530568",
            "1a7331d1844744a98aa6c2f7a413ac36",
            "3e201f7221cc41268c5e25586e6f2dba",
            "71a450ce77e041809cdca4b01f375d6f",
            "156fcaf282a1489ea7eb55d7b4110043",
            "d93fb349a5704ed9984cc8fbfbbecb67",
            "79691ac550f94550b333c463f1788076",
            "2450f4e12c6945a5a47360bd26bb0fc6",
            "7089c7fc233d4b12b5e3a59047711d37",
            "12ee2a23db1d493fb19d5ae74f70ee2b",
            "e4b7164fe40f4d3f9683150ee424e0cf",
            "9c029fa0f7604db8a33aa9c41cb4300a",
            "7e8d6daff20e47d78e14d40e8ae891c2",
            "79c2b4f804b143e48406bf94f2cfafc7",
            "46f4345f20a44fc1be82f910c76f1326",
            "50c6464e75254bbdb7f4482fb58a7822",
            "cb93e698ecf147a29927f81c9142335a",
            "b4e414f134364116ba9481a2bc1670ed",
            "e9802bca61de48f88b662158d1fdd065",
            "74329f20b649450a9b95c52fe8da7c8c",
            "84bd7fcdc78a4a7cbeae0e8824b57217",
            "a2220c42b6744ec2a0668687b624aebc",
            "7e18bcb7cad246b5ad4c1a417064073f",
            "d5d8f4a1561d4e1f9d86dc3c76520627",
            "454d6cb82355432ba6104c3a746bb7ab",
            "8dbc477ecd6f47838456f4bab0927585",
            "cb295e433fd64f0eaad17101805783d2",
            "d56e0d39f2a84a819fb9b8ffbbc72734",
            "ac1ee14ea766490c9073b69f46ce3fd2",
            "91eac28961144d2184199848f1427ac3",
            "89223bbcf74b4a34b2da1f3858071234",
            "aec38a5f9a2b4c6fb29233f5665a122b",
            "e61564eada2e4712a1db8688aca8d775",
            "c16d532a60934f08a5f63805b07d7b1e",
            "c72b37873cfa4e0a8d3695d9363f51af",
            "309049cac07a42e3b48b236ac3ceb876",
            "f5fbd5c56d264a9f9985385f4d6971c2",
            "1548caf4b97746cd8040c373780ba620",
            "e4f34f055a014967a8be0daedda7510d",
            "e9a557a085c94bcdac718d86cde8d6d5",
            "9f3edbff3a98436ea1e42a6f70b99af0"
          ]
        },
        "id": "R2azlQ-DdiTK",
        "outputId": "38fe1270-fceb-4c63-a5e6-b32a52d88714"
      },
      "execution_count": null,
      "outputs": [
        {
          "output_type": "stream",
          "name": "stderr",
          "text": [
            "/usr/local/lib/python3.10/dist-packages/huggingface_hub/utils/_token.py:89: UserWarning: \n",
            "The secret `HF_TOKEN` does not exist in your Colab secrets.\n",
            "To authenticate with the Hugging Face Hub, create a token in your settings tab (https://huggingface.co/settings/tokens), set it as secret in your Google Colab and restart your session.\n",
            "You will be able to reuse this secret in all of your notebooks.\n",
            "Please note that authentication is recommended but still optional to access public models or datasets.\n",
            "  warnings.warn(\n"
          ]
        },
        {
          "output_type": "display_data",
          "data": {
            "text/plain": [
              "tokenizer_config.json:   0%|          | 0.00/60.0 [00:00<?, ?B/s]"
            ],
            "application/vnd.jupyter.widget-view+json": {
              "version_major": 2,
              "version_minor": 0,
              "model_id": "63015017653742b69494245a37869635"
            }
          },
          "metadata": {}
        },
        {
          "output_type": "display_data",
          "data": {
            "text/plain": [
              "vocab.txt:   0%|          | 0.00/213k [00:00<?, ?B/s]"
            ],
            "application/vnd.jupyter.widget-view+json": {
              "version_major": 2,
              "version_minor": 0,
              "model_id": "7089c7fc233d4b12b5e3a59047711d37"
            }
          },
          "metadata": {}
        },
        {
          "output_type": "display_data",
          "data": {
            "text/plain": [
              "config.json:   0%|          | 0.00/998 [00:00<?, ?B/s]"
            ],
            "application/vnd.jupyter.widget-view+json": {
              "version_major": 2,
              "version_minor": 0,
              "model_id": "74329f20b649450a9b95c52fe8da7c8c"
            }
          },
          "metadata": {}
        },
        {
          "output_type": "display_data",
          "data": {
            "text/plain": [
              "model.safetensors:   0%|          | 0.00/1.33G [00:00<?, ?B/s]"
            ],
            "application/vnd.jupyter.widget-view+json": {
              "version_major": 2,
              "version_minor": 0,
              "model_id": "89223bbcf74b4a34b2da1f3858071234"
            }
          },
          "metadata": {}
        },
        {
          "output_type": "stream",
          "name": "stderr",
          "text": [
            "Some weights of the model checkpoint at dbmdz/bert-large-cased-finetuned-conll03-english were not used when initializing BertForTokenClassification: ['bert.pooler.dense.bias', 'bert.pooler.dense.weight']\n",
            "- This IS expected if you are initializing BertForTokenClassification from the checkpoint of a model trained on another task or with another architecture (e.g. initializing a BertForSequenceClassification model from a BertForPreTraining model).\n",
            "- This IS NOT expected if you are initializing BertForTokenClassification from the checkpoint of a model that you expect to be exactly identical (initializing a BertForSequenceClassification model from a BertForSequenceClassification model).\n"
          ]
        },
        {
          "output_type": "stream",
          "name": "stdout",
          "text": [
            "Whitespace Tokenizer NER Results:\n",
            "Tokenized Text: Elon Musk is the CEO of SpaceX, and he lives in Texas.\n",
            "[('El', 'I-PER'), ('##on', 'I-PER'), ('Mu', 'I-PER'), ('##sk', 'I-PER'), ('Space', 'I-ORG'), ('##X', 'I-ORG'), ('Texas', 'I-LOC')]\n",
            "\n",
            "Punctuation Tokenizer NER Results:\n",
            "Tokenized Text: Elon Musk is the CEO of SpaceX , and he lives in Texas .\n",
            "[('El', 'I-PER'), ('##on', 'I-PER'), ('Mu', 'I-PER'), ('##sk', 'I-PER'), ('Space', 'I-ORG'), ('##X', 'I-ORG'), ('Texas', 'I-LOC')]\n",
            "\n",
            "NLTK Tokenizer NER Results:\n",
            "Tokenized Text: Elon Musk is the CEO of SpaceX , and he lives in Texas .\n",
            "[('El', 'I-PER'), ('##on', 'I-PER'), ('Mu', 'I-PER'), ('##sk', 'I-PER'), ('Space', 'I-ORG'), ('##X', 'I-ORG'), ('Texas', 'I-LOC')]\n",
            "\n",
            "SpaCy Tokenizer NER Results:\n",
            "Tokenized Text: Elon Musk is the CEO of SpaceX , and he lives in Texas .\n",
            "[('El', 'I-PER'), ('##on', 'I-PER'), ('Mu', 'I-PER'), ('##sk', 'I-PER'), ('Space', 'I-ORG'), ('##X', 'I-ORG'), ('Texas', 'I-LOC')]\n"
          ]
        }
      ]
    },
    {
      "cell_type": "markdown",
      "source": [
        "## Tokenization Impact on Text Generation"
      ],
      "metadata": {
        "id": "FZl3C__feaK0"
      }
    },
    {
      "cell_type": "code",
      "source": [
        "from transformers import GPT2Tokenizer, GPT2LMHeadModel\n",
        "from tokenizers import Tokenizer\n",
        "from tokenizers.models import BPE\n",
        "from tokenizers.trainers import BpeTrainer\n",
        "from tokenizers.pre_tokenizers import Whitespace\n",
        "import torch\n",
        "\n",
        "# Initialize GPT-2 model and tokenizer from Hugging Face\n",
        "gpt2_tokenizer = GPT2Tokenizer.from_pretrained(\"gpt2\")\n",
        "gpt2_model = GPT2LMHeadModel.from_pretrained(\"gpt2\")\n",
        "\n",
        "# Define a sample text\n",
        "text = \"The quick brown fox jumps over the lazy dog.\"\n",
        "\n",
        "# Create a custom BPE tokenizer\n",
        "bpe_tokenizer = Tokenizer(BPE())\n",
        "bpe_tokenizer.pre_tokenizer = Whitespace()\n",
        "bpe_trainer = BpeTrainer(vocab_size=1000, min_frequency=2)\n",
        "bpe_tokenizer.train_from_iterator([text], trainer=bpe_trainer)\n",
        "\n",
        "# Function to tokenize and generate text with GPT-2\n",
        "def generate_text(tokenizer, model, prompt, max_length=50):\n",
        "    # Tokenize input text\n",
        "    tokens = tokenizer(prompt, return_tensors=\"pt\")\n",
        "    # Generate text\n",
        "    output = model.generate(tokens['input_ids'], max_length=max_length, num_return_sequences=1)\n",
        "    # Decode output tokens\n",
        "    return tokenizer.decode(output[0], skip_special_tokens=True)\n",
        "\n",
        "# Function to apply BPE tokenizer and generate text\n",
        "def bpe_generate_text(prompt):\n",
        "    # Tokenize with BPE tokenizer\n",
        "    encoded = bpe_tokenizer.encode(prompt)\n",
        "    tokens = encoded.tokens\n",
        "    tokenized_prompt = \" \".join(tokens)\n",
        "    print(f\"BPE Tokenized Prompt: {tokenized_prompt}\")\n",
        "    return generate_text(gpt2_tokenizer, gpt2_model, tokenized_prompt)\n",
        "\n",
        "# Generate and print results\n",
        "print(\"GPT-2 Tokenizer Generated Text:\")\n",
        "print(generate_text(gpt2_tokenizer, gpt2_model, text))\n",
        "\n",
        "print(\"\\nBPE Tokenizer Generated Text:\")\n",
        "print(bpe_generate_text(text))\n"
      ],
      "metadata": {
        "colab": {
          "base_uri": "https://localhost:8080/"
        },
        "id": "e1XplXl9eAsl",
        "outputId": "d3965236-cb18-4967-c629-578b5e4b3cc7"
      },
      "execution_count": null,
      "outputs": [
        {
          "output_type": "stream",
          "name": "stderr",
          "text": [
            "The attention mask and the pad token id were not set. As a consequence, you may observe unexpected behavior. Please pass your input's `attention_mask` to obtain reliable results.\n",
            "Setting `pad_token_id` to `eos_token_id`:50256 for open-end generation.\n"
          ]
        },
        {
          "output_type": "stream",
          "name": "stdout",
          "text": [
            "GPT-2 Tokenizer Generated Text:\n"
          ]
        },
        {
          "output_type": "stream",
          "name": "stderr",
          "text": [
            "The attention mask and the pad token id were not set. As a consequence, you may observe unexpected behavior. Please pass your input's `attention_mask` to obtain reliable results.\n",
            "Setting `pad_token_id` to `eos_token_id`:50256 for open-end generation.\n"
          ]
        },
        {
          "output_type": "stream",
          "name": "stdout",
          "text": [
            "The quick brown fox jumps over the lazy dog.\n",
            "\n",
            "\"I'm sorry, I'm sorry, I'm sorry, I'm sorry, I'm sorry, I'm sorry, I'm sorry, I'm sorry, I'm sorry, I\n",
            "\n",
            "BPE Tokenizer Generated Text:\n",
            "BPE Tokenized Prompt: T he q u i c k b r o w n f o x j u m p s o v e r t he l a z y d o g .\n",
            "T he q u i c k b r o w n f o x j u m p s o v e r t he l a z y d o g.................\n"
          ]
        }
      ]
    },
    {
      "cell_type": "markdown",
      "source": [
        "## Sentiment analysis"
      ],
      "metadata": {
        "id": "ocdxZsmUlO5D"
      }
    },
    {
      "cell_type": "code",
      "source": [
        "from transformers import pipeline\n",
        "\n",
        "# Initialize the sentiment analysis pipeline\n",
        "sentiment_analyzer = pipeline('sentiment-analysis')\n",
        "\n",
        "# Sample texts for sentiment analysis\n",
        "texts = [\n",
        "    \"I love using the new features in this app!\",\n",
        "    \"The service was terrible and I am very disappointed.\",\n",
        "    \"It's an average movie with some good moments.\",\n",
        "    \"The product exceeded my expectations. Highly recommend!\"\n",
        "]\n",
        "\n",
        "# Perform sentiment analysis\n",
        "results = sentiment_analyzer(texts)\n",
        "\n",
        "# Print the results\n",
        "for text, result in zip(texts, results):\n",
        "    print(f\"Text: {text}\")\n",
        "    print(f\"Sentiment: {result['label']}, Score: {result['score']:.4f}\\n\")\n"
      ],
      "metadata": {
        "colab": {
          "base_uri": "https://localhost:8080/"
        },
        "id": "_9wo_CyJecXW",
        "outputId": "0fd063d1-4f63-4a53-b8c1-bb793bf335f6"
      },
      "execution_count": null,
      "outputs": [
        {
          "output_type": "stream",
          "name": "stderr",
          "text": [
            "No model was supplied, defaulted to distilbert/distilbert-base-uncased-finetuned-sst-2-english and revision af0f99b (https://huggingface.co/distilbert/distilbert-base-uncased-finetuned-sst-2-english).\n",
            "Using a pipeline without specifying a model name and revision in production is not recommended.\n"
          ]
        },
        {
          "output_type": "stream",
          "name": "stdout",
          "text": [
            "results\n",
            "[{'label': 'POSITIVE', 'score': 0.9994829893112183}, {'label': 'NEGATIVE', 'score': 0.999747097492218}, {'label': 'POSITIVE', 'score': 0.9998431205749512}, {'label': 'POSITIVE', 'score': 0.9998568296432495}]\n",
            "Text: I love using the new features in this app!\n",
            "Sentiment: POSITIVE, Score: 0.9995\n",
            "\n",
            "Text: The service was terrible and I am very disappointed.\n",
            "Sentiment: NEGATIVE, Score: 0.9997\n",
            "\n",
            "Text: It's an average movie with some good moments.\n",
            "Sentiment: POSITIVE, Score: 0.9998\n",
            "\n",
            "Text: The product exceeded my expectations. Highly recommend!\n",
            "Sentiment: POSITIVE, Score: 0.9999\n",
            "\n"
          ]
        }
      ]
    },
    {
      "cell_type": "code",
      "source": [
        "from gensim.models import Word2Vec\n",
        "from nltk.tokenize import word_tokenize\n",
        "#import nltk\n",
        "#nltk.download('punkt')\n",
        "\n",
        "# Sample text\n",
        "text = \"The quick brown fox jumps over the lazy dog.\"\n",
        "\n",
        "# Tokenize the text\n",
        "tokens = word_tokenize(text.lower())\n",
        "\n",
        "# Train a Word2Vec model\n",
        "model = Word2Vec([tokens], vector_size=50, window=5, min_count=1, sg=0)\n",
        "\n",
        "# Retrieve word embeddings\n",
        "vector_fox = model.wv['fox']\n",
        "vector_dog = model.wv['dog']\n",
        "\n",
        "print(f\"Vector for 'fox': {vector_fox}\")\n",
        "print(f\"Vector for 'dog': {vector_dog}\")\n",
        "\n",
        "# Find most similar words\n",
        "similar_words = model.wv.most_similar('fox')\n",
        "print(f\"Words similar to 'fox': {similar_words}\")\n"
      ],
      "metadata": {
        "colab": {
          "base_uri": "https://localhost:8080/"
        },
        "id": "XgRSWc70lOr-",
        "outputId": "ecadb0d1-2f8b-4500-8970-8fcfcec523b6"
      },
      "execution_count": null,
      "outputs": [
        {
          "output_type": "stream",
          "name": "stdout",
          "text": [
            "Vector for 'fox': [-0.01648536  0.01859871 -0.00039532 -0.00393455  0.00920726 -0.00819063\n",
            "  0.00548623  0.01387993  0.01213085 -0.01502159  0.0187647   0.00934362\n",
            "  0.00793224 -0.01248701  0.01691996 -0.00430033  0.01765038 -0.01072401\n",
            " -0.01625884  0.01364912  0.00334239 -0.00439702  0.0190272   0.01898771\n",
            " -0.01954809  0.00501046  0.01231338  0.00774491  0.00404557  0.000861\n",
            "  0.00134726 -0.00764127 -0.0142805  -0.00417774  0.0078478   0.01763737\n",
            "  0.0185183  -0.01195187 -0.01880534  0.01952875  0.00685957  0.01033223\n",
            "  0.01256469 -0.00560853  0.01464541  0.00566054  0.00574201 -0.00476074\n",
            " -0.0062565  -0.00474028]\n",
            "Vector for 'dog': [-0.01723938  0.00733148  0.01037977  0.01148388  0.01493384 -0.01233535\n",
            "  0.00221123  0.01209456 -0.0056801  -0.01234705 -0.00082045 -0.0167379\n",
            " -0.01120002  0.01420908  0.00670508  0.01445134  0.01360049  0.01506148\n",
            " -0.00757831 -0.00112361  0.00469675 -0.00903806  0.01677746 -0.01971633\n",
            "  0.01352928  0.00582883 -0.00986566  0.00879638 -0.00347915  0.01342277\n",
            "  0.0199297  -0.00872489 -0.00119868 -0.01139127  0.00770164  0.00557325\n",
            "  0.01378215  0.01220219  0.01907699  0.01854683  0.01579614 -0.01397901\n",
            " -0.01831173 -0.00071151 -0.00619968  0.01578863  0.01187715 -0.00309133\n",
            "  0.00302193  0.00358008]\n",
            "Words similar to 'fox': [('jumps', 0.18339456617832184), ('brown', 0.11253629624843597), ('dog', 0.08872982114553452), ('.', 0.07399575412273407), ('lazy', -0.04407210648059845), ('over', -0.05621429532766342), ('the', -0.05974647030234337), ('quick', -0.08930367976427078)]\n"
          ]
        }
      ]
    },
    {
      "cell_type": "code",
      "source": [
        "import requests\n",
        "\n",
        "bible = requests.get('https://openbible.com/textfiles/kjv.txt').text\n",
        "bible = bible[90:]\n",
        "bible[:200]"
      ],
      "metadata": {
        "colab": {
          "base_uri": "https://localhost:8080/",
          "height": 53
        },
        "id": "-f0SN4gomxUU",
        "outputId": "2ed1c073-a305-433a-9e9d-a55bf9c9c249"
      },
      "execution_count": null,
      "outputs": [
        {
          "output_type": "execute_result",
          "data": {
            "text/plain": [
              "'Genesis 1:1\\tIn the beginning God created the heaven and the earth.\\nGenesis 1:2\\tAnd the earth was without form, and void; and darkness [was] upon the face of the deep. And the Spirit of God moved upon '"
            ],
            "application/vnd.google.colaboratory.intrinsic+json": {
              "type": "string"
            }
          },
          "metadata": {},
          "execution_count": 48
        }
      ]
    },
    {
      "cell_type": "code",
      "source": [
        "bible.splitlines()[1]"
      ],
      "metadata": {
        "colab": {
          "base_uri": "https://localhost:8080/",
          "height": 53
        },
        "id": "bbJbpuVIo6ep",
        "outputId": "416ae7da-2143-4bd2-f2f2-864650ee9792"
      },
      "execution_count": null,
      "outputs": [
        {
          "output_type": "execute_result",
          "data": {
            "text/plain": [
              "'Genesis 1:2\\tAnd the earth was without form, and void; and darkness [was] upon the face of the deep. And the Spirit of God moved upon the face of the waters.'"
            ],
            "application/vnd.google.colaboratory.intrinsic+json": {
              "type": "string"
            }
          },
          "metadata": {},
          "execution_count": 51
        }
      ]
    },
    {
      "cell_type": "code",
      "source": [
        "bible_verses = [verse.split('\\t')[1] for verse in bible.splitlines()]\n",
        "bible_verses[:10]"
      ],
      "metadata": {
        "colab": {
          "base_uri": "https://localhost:8080/"
        },
        "id": "_24Pguw0oEnw",
        "outputId": "123e3ae0-dcdf-4f84-e74f-2478769f55be"
      },
      "execution_count": null,
      "outputs": [
        {
          "output_type": "execute_result",
          "data": {
            "text/plain": [
              "['In the beginning God created the heaven and the earth.',\n",
              " 'And the earth was without form, and void; and darkness [was] upon the face of the deep. And the Spirit of God moved upon the face of the waters.',\n",
              " 'And God said, Let there be light: and there was light.',\n",
              " 'And God saw the light, that [it was] good: and God divided the light from the darkness.',\n",
              " 'And God called the light Day, and the darkness he called Night. And the evening and the morning were the first day.',\n",
              " 'And God said, Let there be a firmament in the midst of the waters, and let it divide the waters from the waters.',\n",
              " 'And God made the firmament, and divided the waters which [were] under the firmament from the waters which [were] above the firmament: and it was so.',\n",
              " 'And God called the firmament Heaven. And the evening and the morning were the second day.',\n",
              " 'And God said, Let the waters under the heaven be gathered together unto one place, and let the dry [land] appear: and it was so.',\n",
              " 'And God called the dry [land] Earth; and the gathering together of the waters called he Seas: and God saw that [it was] good.']"
            ]
          },
          "metadata": {},
          "execution_count": 54
        }
      ]
    },
    {
      "cell_type": "code",
      "source": [
        "bible_text = ' '.join(bible_verses)"
      ],
      "metadata": {
        "id": "T8yZwKpNpEp7"
      },
      "execution_count": null,
      "outputs": []
    },
    {
      "cell_type": "code",
      "source": [
        "tokens = word_tokenize(bible_text.lower())\n",
        "len(tokens)"
      ],
      "metadata": {
        "colab": {
          "base_uri": "https://localhost:8080/"
        },
        "id": "vPLc42U1m_IY",
        "outputId": "4c94fdd0-4149-40e9-e142-0a2390a73a43"
      },
      "execution_count": null,
      "outputs": [
        {
          "output_type": "execute_result",
          "data": {
            "text/plain": [
              "957901"
            ]
          },
          "metadata": {},
          "execution_count": 56
        }
      ]
    },
    {
      "cell_type": "code",
      "source": [
        "model = Word2Vec([tokens], vector_size=100, window=5, min_count=1, sg=0)\n",
        "model"
      ],
      "metadata": {
        "colab": {
          "base_uri": "https://localhost:8080/"
        },
        "id": "TESFx9RjnWv5",
        "outputId": "7bea3bc1-4c39-4eeb-fb07-da8398054245"
      },
      "execution_count": null,
      "outputs": [
        {
          "output_type": "execute_result",
          "data": {
            "text/plain": [
              "<gensim.models.word2vec.Word2Vec at 0x7e2d723a6bf0>"
            ]
          },
          "metadata": {},
          "execution_count": 61
        }
      ]
    },
    {
      "cell_type": "code",
      "source": [
        "vector_god = model.wv['god']\n",
        "vector_jesus = model.wv['jesus']\n",
        "\n",
        "print(f\"Vector for 'God': {vector_god}\")\n",
        "print(f\"Vector for 'Jesus': {vector_jesus}\")"
      ],
      "metadata": {
        "colab": {
          "base_uri": "https://localhost:8080/"
        },
        "id": "MROUi5UVnZsC",
        "outputId": "727912be-ed7f-4d99-a95d-23c275fa8d78"
      },
      "execution_count": null,
      "outputs": [
        {
          "output_type": "stream",
          "name": "stdout",
          "text": [
            "Vector for 'God': [ 1.10151820e-01  2.23351717e-01 -2.50955969e-01  5.38868070e-01\n",
            "  3.03258270e-01 -4.39407587e-01  4.03590463e-02  8.62978339e-01\n",
            " -3.98967355e-01 -4.35739458e-01  1.79952487e-01 -5.46692729e-01\n",
            " -2.38755733e-01  4.07779753e-01  4.37981784e-01 -1.10808857e-01\n",
            "  4.71028268e-01 -1.51482616e-02 -1.45379886e-01 -5.91193259e-01\n",
            " -4.08541292e-01 -4.46228981e-02 -6.20529661e-03 -4.47401226e-01\n",
            " -2.73928586e-02 -1.37753934e-01 -2.75020063e-01  4.75306474e-02\n",
            " -3.06266546e-01  1.74939990e-01  6.27728164e-01 -3.39444757e-01\n",
            "  7.31381536e-01 -6.22989058e-01  1.37449145e-01  7.57342458e-01\n",
            "  1.24489866e-01  1.44603670e-01  5.32249883e-02 -4.15649593e-01\n",
            "  3.28681350e-01 -1.89512119e-01 -6.19135909e-02 -1.11863025e-01\n",
            "  3.77866417e-01 -3.82687330e-01 -4.64423180e-01  4.54800688e-02\n",
            "  3.73258114e-01  1.83249876e-01  4.93123531e-01  2.56650094e-02\n",
            " -7.39880204e-02  1.73501283e-01  1.54798524e-02  7.36247599e-02\n",
            "  2.71006301e-02 -9.23239365e-02 -3.80230278e-01  4.11156654e-01\n",
            "  9.58265364e-02 -9.71420705e-02  4.07273412e-01 -2.06476331e-01\n",
            " -6.15391850e-01  3.49229336e-01  6.41832411e-01  7.89879978e-01\n",
            " -5.61642706e-01  9.54807699e-01  1.50058612e-01  5.44437647e-01\n",
            "  6.74712300e-01 -1.19010709e-01  5.43312907e-01 -2.73595661e-01\n",
            "  4.57896650e-01 -2.98805296e-01 -1.23112544e-01  8.41127634e-02\n",
            " -3.61190826e-01 -6.98079297e-04 -1.52572662e-01  1.48771837e-01\n",
            " -1.87881231e-01 -4.00746018e-01  2.62556881e-01  7.48685673e-02\n",
            "  6.68195784e-01  3.22378784e-01  7.28640556e-02  4.17676091e-01\n",
            "  3.51434529e-01  1.08164303e-01  9.43850338e-01  4.31774646e-01\n",
            "  1.03530265e-01 -2.90528953e-01  3.61942083e-01  1.25193000e-01]\n",
            "Vector for 'Jesus': [ 0.00879907 -0.00226879  0.00436904 -0.00095746  0.00377364  0.00620365\n",
            "  0.00184353 -0.00598772  0.00480662  0.00144807  0.00959224 -0.00253534\n",
            " -0.00069385  0.00339658  0.00461053  0.0013906  -0.00126651 -0.00969286\n",
            "  0.00286643  0.00572245 -0.00407007  0.00145746 -0.00260079 -0.00148103\n",
            "  0.00903162 -0.0089871   0.00887071 -0.00880659 -0.00779475  0.00728803\n",
            " -0.00605362  0.00179172 -0.00641459 -0.00128729  0.00874303  0.00754741\n",
            "  0.00530605 -0.00105548  0.00375207 -0.00954294  0.0028999   0.00342025\n",
            " -0.00973755  0.00041128 -0.00978385  0.00271384  0.00595452  0.00045747\n",
            " -0.00477495 -0.00600219  0.0060584  -0.00191348 -0.00660311  0.00528183\n",
            " -0.0006115   0.00107842  0.00851477  0.00326727 -0.00598139  0.00595498\n",
            "  0.00153363  0.00552048  0.00503032 -0.00426589  0.00126332 -0.00362272\n",
            "  0.00704835 -0.0037588  -0.00036042 -0.00213919  0.00919588  0.00466143\n",
            " -0.00940703  0.0074018   0.00723497 -0.00760527  0.00490566 -0.00403641\n",
            " -0.00071245  0.00344667  0.00760256  0.00071897  0.0072733   0.00570716\n",
            " -0.00668446  0.00183673 -0.00310778  0.00789207  0.00408895  0.00525275\n",
            "  0.00740978 -0.00101712  0.00026537 -0.00117909 -0.00385124 -0.00590653\n",
            "  0.00081858  0.00622246 -0.00240557  0.00905122]\n"
          ]
        }
      ]
    },
    {
      "cell_type": "code",
      "source": [
        "# Find most similar words\n",
        "similar_words = model.wv.most_similar('god')\n",
        "print(f\"Words similar to 'God': {similar_words}\")"
      ],
      "metadata": {
        "colab": {
          "base_uri": "https://localhost:8080/"
        },
        "id": "3UlERCnAnjvH",
        "outputId": "5d2c5dfd-9d97-4e16-f7fd-d49708eb39f3"
      },
      "execution_count": null,
      "outputs": [
        {
          "output_type": "stream",
          "name": "stdout",
          "text": [
            "Words similar to 'God': [(';', 0.9998259544372559), ('the', 0.999822199344635), ('and', 0.9998204708099365), (',', 0.9998149275779724), ('upon', 0.99980628490448), ('he', 0.9997936487197876), ('.', 0.9997931718826294), (':', 0.9997916221618652), ('in', 0.9997899532318115), ('a', 0.9997780323028564)]\n"
          ]
        }
      ]
    },
    {
      "cell_type": "code",
      "source": [
        "# Find most similar words\n",
        "similar_words = model.wv.most_similar('jesus')\n",
        "print(f\"Words similar to 'Jesus': {similar_words}\")"
      ],
      "metadata": {
        "colab": {
          "base_uri": "https://localhost:8080/"
        },
        "id": "CNpBy7PFnt5Q",
        "outputId": "fc7d36d6-ab43-4adb-d30c-b0e0621e5263"
      },
      "execution_count": null,
      "outputs": [
        {
          "output_type": "stream",
          "name": "stdout",
          "text": [
            "Words similar to 'Jesus': [('godly', 0.3745896816253662), ('kareah', 0.36409634351730347), ('eightieth', 0.3470560610294342), ('exchange', 0.3424372375011444), ('jarmuth', 0.3419804573059082), ('readeth', 0.3345049023628235), ('whiter', 0.33197978138923645), ('baana', 0.3273734748363495), ('obedience', 0.3242563307285309), ('zechariah', 0.3153020441532135)]\n"
          ]
        }
      ]
    },
    {
      "cell_type": "code",
      "source": [],
      "metadata": {
        "id": "hySt-uNap_6h"
      },
      "execution_count": null,
      "outputs": []
    }
  ]
}